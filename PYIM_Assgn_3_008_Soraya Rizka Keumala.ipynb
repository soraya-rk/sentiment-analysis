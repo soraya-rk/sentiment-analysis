{
  "nbformat": 4,
  "nbformat_minor": 0,
  "metadata": {
    "colab": {
      "name": "Copy of Assignment 3 - Sentiment Analysis alt2.ipynb",
      "provenance": [],
      "collapsed_sections": []
    },
    "kernelspec": {
      "name": "python3",
      "display_name": "Python 3"
    },
    "language_info": {
      "name": "python"
    },
    "accelerator": "GPU"
  },
  "cells": [
    {
      "cell_type": "markdown",
      "metadata": {
        "id": "mJK6GCu6GAAK"
      },
      "source": [
        "**Tujuan**: Memprediksi apakah sebuat teks review product memiliki sentimen positif atau negatif.\n",
        "Data set yang digunakan:  Amazon product review dataset untuk produk kategori Baby (https://s3.amazonaws.com/amazon-reviews-pds/tsv/index.txt)"
      ]
    },
    {
      "cell_type": "markdown",
      "metadata": {
        "id": "KJRfM0ahGu8A"
      },
      "source": [
        "Algoritma yang digunakan adalah gensim dan Word2Vec."
      ]
    },
    {
      "cell_type": "markdown",
      "metadata": {
        "id": "moi3UjYnGRli"
      },
      "source": [
        "# Preparation (Library Set Up)"
      ]
    },
    {
      "cell_type": "code",
      "metadata": {
        "colab": {
          "base_uri": "https://localhost:8080/"
        },
        "id": "dCkTJz6rJY30",
        "outputId": "4a6c1184-d755-4e77-b55b-54a864516fe6"
      },
      "source": [
        "!pip install gensim --upgrade\n",
        "!pip install keras --upgrade\n",
        "!pip install pandas --upgrade"
      ],
      "execution_count": null,
      "outputs": [
        {
          "output_type": "stream",
          "text": [
            "Requirement already satisfied: gensim in /usr/local/lib/python3.7/dist-packages (4.0.1)\n",
            "Requirement already satisfied: scipy>=0.18.1 in /usr/local/lib/python3.7/dist-packages (from gensim) (1.4.1)\n",
            "Requirement already satisfied: smart-open>=1.8.1 in /usr/local/lib/python3.7/dist-packages (from gensim) (5.1.0)\n",
            "Requirement already satisfied: numpy>=1.11.3 in /usr/local/lib/python3.7/dist-packages (from gensim) (1.19.5)\n",
            "Requirement already satisfied: keras in /usr/local/lib/python3.7/dist-packages (2.4.3)\n",
            "Requirement already satisfied: scipy>=0.14 in /usr/local/lib/python3.7/dist-packages (from keras) (1.4.1)\n",
            "Requirement already satisfied: h5py in /usr/local/lib/python3.7/dist-packages (from keras) (3.1.0)\n",
            "Requirement already satisfied: pyyaml in /usr/local/lib/python3.7/dist-packages (from keras) (3.13)\n",
            "Requirement already satisfied: numpy>=1.9.1 in /usr/local/lib/python3.7/dist-packages (from keras) (1.19.5)\n",
            "Requirement already satisfied: cached-property in /usr/local/lib/python3.7/dist-packages (from h5py->keras) (1.5.2)\n",
            "Requirement already satisfied: pandas in /usr/local/lib/python3.7/dist-packages (1.3.1)\n",
            "Requirement already satisfied: numpy>=1.17.3 in /usr/local/lib/python3.7/dist-packages (from pandas) (1.19.5)\n",
            "Requirement already satisfied: python-dateutil>=2.7.3 in /usr/local/lib/python3.7/dist-packages (from pandas) (2.8.1)\n",
            "Requirement already satisfied: pytz>=2017.3 in /usr/local/lib/python3.7/dist-packages (from pandas) (2018.9)\n",
            "Requirement already satisfied: six>=1.5 in /usr/local/lib/python3.7/dist-packages (from python-dateutil>=2.7.3->pandas) (1.15.0)\n"
          ],
          "name": "stdout"
        }
      ]
    },
    {
      "cell_type": "markdown",
      "metadata": {
        "id": "f3-Ewt_CJJSg"
      },
      "source": [
        "Lalu import library yang dibutuhkan."
      ]
    },
    {
      "cell_type": "code",
      "metadata": {
        "id": "6jc3VPDoJf5D",
        "colab": {
          "base_uri": "https://localhost:8080/"
        },
        "outputId": "8aa635c2-19a7-45bc-da12-cfea914c753b"
      },
      "source": [
        "# DataFrame\n",
        "import pandas as pd\n",
        "\n",
        "# Matplot\n",
        "import matplotlib.pyplot as plt\n",
        "%matplotlib inline\n",
        "\n",
        "# Scikit-learn\n",
        "from sklearn.model_selection import train_test_split\n",
        "from sklearn.preprocessing import LabelEncoder\n",
        "from sklearn.metrics import confusion_matrix, classification_report, accuracy_score\n",
        "from sklearn.manifold import TSNE\n",
        "from sklearn.feature_extraction.text import TfidfVectorizer\n",
        "\n",
        "# Keras\n",
        "from keras.preprocessing.text import Tokenizer\n",
        "from keras.preprocessing.sequence import pad_sequences\n",
        "from keras.models import Sequential\n",
        "from keras.layers import Activation, Dense, Dropout, Embedding, Flatten, Conv1D, MaxPooling1D, LSTM\n",
        "from keras import utils\n",
        "from keras.callbacks import ReduceLROnPlateau, EarlyStopping\n",
        "\n",
        "# nltk\n",
        "import nltk\n",
        "from nltk.corpus import stopwords\n",
        "from  nltk.stem import SnowballStemmer\n",
        "\n",
        "# Word2vec\n",
        "import gensim\n",
        "\n",
        "# Utility\n",
        "import re\n",
        "import numpy as np\n",
        "import os\n",
        "from collections import Counter\n",
        "import logging\n",
        "import time\n",
        "import pickle\n",
        "import itertools\n",
        "import gzip\n",
        "\n",
        "# Set log\n",
        "logging.basicConfig(format='%(asctime)s : %(levelname)s : %(message)s', level=logging.INFO)"
      ],
      "execution_count": null,
      "outputs": [
        {
          "output_type": "stream",
          "text": [
            "/usr/local/lib/python3.7/dist-packages/gensim/similarities/__init__.py:15: UserWarning: The gensim.similarities.levenshtein submodule is disabled, because the optional Levenshtein package <https://pypi.org/project/python-Levenshtein/> is unavailable. Install Levenhstein (e.g. `pip install python-Levenshtein`) to suppress this warning.\n",
            "  warnings.warn(msg)\n"
          ],
          "name": "stderr"
        }
      ]
    },
    {
      "cell_type": "markdown",
      "metadata": {
        "id": "JNPkW1UxO6CA"
      },
      "source": [
        "***STOPWORDS***"
      ]
    },
    {
      "cell_type": "markdown",
      "metadata": {
        "id": "eoPDO9R5PKXK"
      },
      "source": [
        "Stop words adalah kata-kata yang sering dipakai namun tidak berguna dalam text processing, seperti 'yes, no, and the' dll. Library NLTK sudah menyediakan list stopwords dan dapat kita download."
      ]
    },
    {
      "cell_type": "code",
      "metadata": {
        "colab": {
          "base_uri": "https://localhost:8080/"
        },
        "id": "qulBYEIxJ_SQ",
        "outputId": "1cef580a-c9b8-4956-f525-f47a2e457f1a"
      },
      "source": [
        "nltk.download('stopwords')"
      ],
      "execution_count": null,
      "outputs": [
        {
          "output_type": "stream",
          "text": [
            "[nltk_data] Downloading package stopwords to /root/nltk_data...\n",
            "[nltk_data]   Package stopwords is already up-to-date!\n"
          ],
          "name": "stdout"
        },
        {
          "output_type": "execute_result",
          "data": {
            "text/plain": [
              "True"
            ]
          },
          "metadata": {
            "tags": []
          },
          "execution_count": 3
        }
      ]
    },
    {
      "cell_type": "markdown",
      "metadata": {
        "id": "ud1z2kmAJNId"
      },
      "source": [
        "Predefine value."
      ]
    },
    {
      "cell_type": "code",
      "metadata": {
        "id": "3bGh2f23KEbZ"
      },
      "source": [
        "# DATASET\n",
        "DATASET_COLUMNS = [\"target\", \"ids\", \"date\", \"flag\", \"user\", \"text\"]\n",
        "DATASET_ENCODING = \"ISO-8859-1\"\n",
        "TRAIN_SIZE = 0.8\n",
        "\n",
        "# TEXT CLEANING\n",
        "TEXT_CLEANING_RE = \"@\\S+|https?:\\S+|http?:\\S|[^A-Za-z0-9]+\"\n",
        "\n",
        "# WORD2VEC \n",
        "W2V_SIZE = 300\n",
        "W2V_WINDOW = 7\n",
        "W2V_EPOCH = 2   \n",
        "W2V_MIN_COUNT = 10\n",
        "\n",
        "# KERAS\n",
        "SEQUENCE_LENGTH = 300\n",
        "EPOCHS = 8\n",
        "BATCH_SIZE = 1024\n",
        "\n",
        "# EXPORT\n",
        "KERAS_MODEL = \"model.h5\"\n",
        "WORD2VEC_MODEL = \"model.w2v\"\n",
        "TOKENIZER_MODEL = \"tokenizer.pkl\"\n",
        "ENCODER_MODEL = \"encoder.pkl\""
      ],
      "execution_count": null,
      "outputs": []
    },
    {
      "cell_type": "markdown",
      "metadata": {
        "id": "7oo8qFazHv0E"
      },
      "source": [
        "# Data Preparation and Cleansing"
      ]
    },
    {
      "cell_type": "markdown",
      "metadata": {
        "id": "YlkHzs8GH317"
      },
      "source": [
        "Data sudah langsung didownload melalui website Amazon dan berbentuk .gz, jadi harus diunzip terlebih dahulu."
      ]
    },
    {
      "cell_type": "code",
      "metadata": {
        "colab": {
          "base_uri": "https://localhost:8080/"
        },
        "id": "_n7nf57fVYp8",
        "outputId": "316bfd19-e3f0-479e-9c83-669d99638f05"
      },
      "source": [
        "# Download data\n",
        "!curl -O https://s3.amazonaws.com/amazon-reviews-pds/tsv/amazon_reviews_us_Baby_v1_00.tsv.gz"
      ],
      "execution_count": null,
      "outputs": [
        {
          "output_type": "stream",
          "text": [
            "  % Total    % Received % Xferd  Average Speed   Time    Time     Time  Current\n",
            "                                 Dload  Upload   Total   Spent    Left  Speed\n",
            "100  340M  100  340M    0     0  83.1M      0  0:00:04  0:00:04 --:--:-- 83.1M\n"
          ],
          "name": "stdout"
        }
      ]
    },
    {
      "cell_type": "code",
      "metadata": {
        "colab": {
          "base_uri": "https://localhost:8080/"
        },
        "id": "VRm-1r0XYS0f",
        "outputId": "d2258fa4-fc7d-495d-fc6e-b89934998b6c"
      },
      "source": [
        "# Unzip Data\n",
        "!gunzip amazon_reviews_us_Baby_v1_00.tsv.gz"
      ],
      "execution_count": null,
      "outputs": [
        {
          "output_type": "stream",
          "text": [
            "gzip: amazon_reviews_us_Baby_v1_00.tsv already exists; do you wish to overwrite (y or n)? y\n"
          ],
          "name": "stdout"
        }
      ]
    },
    {
      "cell_type": "markdown",
      "metadata": {
        "id": "VsNcOffIH-Du"
      },
      "source": [
        "Data yang akan digunakan masih dalam format TSV (Tab-separated values). Karena dipisahkan oleh tab, data TSV sering kali ditemukan *badlines*, yaitu memiliki jumlah kolom yang tidak konsisten. Di data kita, kebanyakan data memiliki 15 kolom, namun ada sebagian kecil data yang terbagi dalam 22 kolom. Sebelum membuat dataframe, kita akan menghapus data yang memiliki 22 kolom."
      ]
    },
    {
      "cell_type": "code",
      "metadata": {
        "colab": {
          "base_uri": "https://localhost:8080/"
        },
        "id": "yCIXr7ByGWhC",
        "outputId": "5e88d262-ee8b-4e09-a627-2c680901ab9e"
      },
      "source": [
        "df = pd.read_csv('amazon_reviews_us_Baby_v1_00.tsv', sep='\\t', error_bad_lines=False)\n"
      ],
      "execution_count": null,
      "outputs": [
        {
          "output_type": "stream",
          "text": [
            "/usr/local/lib/python3.7/dist-packages/IPython/core/interactiveshell.py:2882: FutureWarning: The error_bad_lines argument has been deprecated and will be removed in a future version.\n",
            "\n",
            "\n",
            "  exec(code_obj, self.user_global_ns, self.user_ns)\n",
            "b'Skipping line 9553: expected 15 fields, saw 22\\nSkipping line 16240: expected 15 fields, saw 22\\nSkipping line 21292: expected 15 fields, saw 22\\nSkipping line 43160: expected 15 fields, saw 22\\n'\n",
            "b'Skipping line 75057: expected 15 fields, saw 22\\nSkipping line 77996: expected 15 fields, saw 22\\nSkipping line 90688: expected 15 fields, saw 22\\n'\n",
            "b'Skipping line 149039: expected 15 fields, saw 22\\nSkipping line 156530: expected 15 fields, saw 22\\nSkipping line 165609: expected 15 fields, saw 22\\nSkipping line 174362: expected 15 fields, saw 22\\nSkipping line 191190: expected 15 fields, saw 22\\n'\n",
            "b'Skipping line 201182: expected 15 fields, saw 22\\nSkipping line 206503: expected 15 fields, saw 22\\nSkipping line 231942: expected 15 fields, saw 22\\nSkipping line 243480: expected 15 fields, saw 22\\nSkipping line 252489: expected 15 fields, saw 22\\n'\n",
            "b'Skipping line 335656: expected 15 fields, saw 22\\nSkipping line 355068: expected 15 fields, saw 22\\nSkipping line 374843: expected 15 fields, saw 22\\nSkipping line 378331: expected 15 fields, saw 22\\nSkipping line 388062: expected 15 fields, saw 22\\n'\n",
            "b'Skipping line 398341: expected 15 fields, saw 22\\nSkipping line 425991: expected 15 fields, saw 22\\n'\n",
            "b'Skipping line 536102: expected 15 fields, saw 22\\nSkipping line 545100: expected 15 fields, saw 22\\nSkipping line 549997: expected 15 fields, saw 22\\nSkipping line 568788: expected 15 fields, saw 22\\nSkipping line 569238: expected 15 fields, saw 22\\n'\n",
            "b'Skipping line 604176: expected 15 fields, saw 22\\nSkipping line 609611: expected 15 fields, saw 22\\nSkipping line 622383: expected 15 fields, saw 22\\nSkipping line 629055: expected 15 fields, saw 22\\nSkipping line 631457: expected 15 fields, saw 22\\nSkipping line 642766: expected 15 fields, saw 22\\n'\n",
            "b'Skipping line 681948: expected 15 fields, saw 22\\nSkipping line 687942: expected 15 fields, saw 22\\nSkipping line 691073: expected 15 fields, saw 22\\nSkipping line 696938: expected 15 fields, saw 22\\n'\n",
            "b'Skipping line 791556: expected 15 fields, saw 22\\n'\n",
            "b'Skipping line 1013014: expected 15 fields, saw 22\\n'\n",
            "b'Skipping line 1239913: expected 15 fields, saw 22\\n'\n",
            "/usr/local/lib/python3.7/dist-packages/IPython/core/interactiveshell.py:2882: DtypeWarning: Columns (7) have mixed types.Specify dtype option on import or set low_memory=False.\n",
            "  exec(code_obj, self.user_global_ns, self.user_ns)\n"
          ],
          "name": "stderr"
        }
      ]
    },
    {
      "cell_type": "code",
      "metadata": {
        "colab": {
          "base_uri": "https://localhost:8080/",
          "height": 509
        },
        "id": "WEAgfyYTqnze",
        "outputId": "3ccab2bc-4ac4-43e3-cf61-c59275382f85"
      },
      "source": [
        "df.head()"
      ],
      "execution_count": null,
      "outputs": [
        {
          "output_type": "execute_result",
          "data": {
            "text/html": [
              "<div>\n",
              "<style scoped>\n",
              "    .dataframe tbody tr th:only-of-type {\n",
              "        vertical-align: middle;\n",
              "    }\n",
              "\n",
              "    .dataframe tbody tr th {\n",
              "        vertical-align: top;\n",
              "    }\n",
              "\n",
              "    .dataframe thead th {\n",
              "        text-align: right;\n",
              "    }\n",
              "</style>\n",
              "<table border=\"1\" class=\"dataframe\">\n",
              "  <thead>\n",
              "    <tr style=\"text-align: right;\">\n",
              "      <th></th>\n",
              "      <th>marketplace</th>\n",
              "      <th>customer_id</th>\n",
              "      <th>review_id</th>\n",
              "      <th>product_id</th>\n",
              "      <th>product_parent</th>\n",
              "      <th>product_title</th>\n",
              "      <th>product_category</th>\n",
              "      <th>star_rating</th>\n",
              "      <th>helpful_votes</th>\n",
              "      <th>total_votes</th>\n",
              "      <th>vine</th>\n",
              "      <th>verified_purchase</th>\n",
              "      <th>review_headline</th>\n",
              "      <th>review_body</th>\n",
              "      <th>review_date</th>\n",
              "    </tr>\n",
              "  </thead>\n",
              "  <tbody>\n",
              "    <tr>\n",
              "      <th>0</th>\n",
              "      <td>US</td>\n",
              "      <td>9970739</td>\n",
              "      <td>R8EWA1OFT84NX</td>\n",
              "      <td>B00GSP5D94</td>\n",
              "      <td>329991347</td>\n",
              "      <td>Summer Infant SwaddleMe Adjustable Infant Wrap...</td>\n",
              "      <td>Baby</td>\n",
              "      <td>5</td>\n",
              "      <td>0.0</td>\n",
              "      <td>0.0</td>\n",
              "      <td>N</td>\n",
              "      <td>Y</td>\n",
              "      <td>Great swaddled blankets</td>\n",
              "      <td>Loved these swaddle blankets and so did my dau...</td>\n",
              "      <td>2015-08-31</td>\n",
              "    </tr>\n",
              "    <tr>\n",
              "      <th>1</th>\n",
              "      <td>US</td>\n",
              "      <td>23538442</td>\n",
              "      <td>R2JWY4YRQD4FOP</td>\n",
              "      <td>B00YYDDZGU</td>\n",
              "      <td>646108902</td>\n",
              "      <td>Pacifier Clip Girl (3 Pack) Ziggy Baby 2-Sided...</td>\n",
              "      <td>Baby</td>\n",
              "      <td>5</td>\n",
              "      <td>0.0</td>\n",
              "      <td>0.0</td>\n",
              "      <td>N</td>\n",
              "      <td>N</td>\n",
              "      <td>Too cute and really nice</td>\n",
              "      <td>These are adorable pacifier clips. SavvyBaby h...</td>\n",
              "      <td>2015-08-31</td>\n",
              "    </tr>\n",
              "    <tr>\n",
              "      <th>2</th>\n",
              "      <td>US</td>\n",
              "      <td>8273344</td>\n",
              "      <td>RL5ESX231LZ0B</td>\n",
              "      <td>B00BUBNZC8</td>\n",
              "      <td>642922361</td>\n",
              "      <td>Udder Covers - Breast Feeding Nursing Cover</td>\n",
              "      <td>Baby</td>\n",
              "      <td>5</td>\n",
              "      <td>0.0</td>\n",
              "      <td>0.0</td>\n",
              "      <td>N</td>\n",
              "      <td>Y</td>\n",
              "      <td>Five Stars</td>\n",
              "      <td>Great gift</td>\n",
              "      <td>2015-08-31</td>\n",
              "    </tr>\n",
              "    <tr>\n",
              "      <th>3</th>\n",
              "      <td>US</td>\n",
              "      <td>24557753</td>\n",
              "      <td>RRMS9ZWJ2KD08</td>\n",
              "      <td>B00AWLZFTS</td>\n",
              "      <td>494272733</td>\n",
              "      <td>Gerber Graduates Fun Pack Utensils</td>\n",
              "      <td>Baby</td>\n",
              "      <td>5</td>\n",
              "      <td>0.0</td>\n",
              "      <td>0.0</td>\n",
              "      <td>N</td>\n",
              "      <td>Y</td>\n",
              "      <td>Cute; wash up nicely in dishwasher.</td>\n",
              "      <td>These forks are great for my 10 month old daug...</td>\n",
              "      <td>2015-08-31</td>\n",
              "    </tr>\n",
              "    <tr>\n",
              "      <th>4</th>\n",
              "      <td>US</td>\n",
              "      <td>46263340</td>\n",
              "      <td>R14I3ZG5E6S7YM</td>\n",
              "      <td>B00KM60D3Q</td>\n",
              "      <td>305813185</td>\n",
              "      <td>Summer Infant Ultra Sight Pan/Scan/Zoom Video ...</td>\n",
              "      <td>Baby</td>\n",
              "      <td>5</td>\n",
              "      <td>0.0</td>\n",
              "      <td>0.0</td>\n",
              "      <td>N</td>\n",
              "      <td>Y</td>\n",
              "      <td>Love it!</td>\n",
              "      <td>I wanted something for piece of mind with my l...</td>\n",
              "      <td>2015-08-31</td>\n",
              "    </tr>\n",
              "  </tbody>\n",
              "</table>\n",
              "</div>"
            ],
            "text/plain": [
              "  marketplace  ...  review_date\n",
              "0          US  ...   2015-08-31\n",
              "1          US  ...   2015-08-31\n",
              "2          US  ...   2015-08-31\n",
              "3          US  ...   2015-08-31\n",
              "4          US  ...   2015-08-31\n",
              "\n",
              "[5 rows x 15 columns]"
            ]
          },
          "metadata": {
            "tags": []
          },
          "execution_count": 8
        }
      ]
    },
    {
      "cell_type": "markdown",
      "metadata": {
        "id": "0e20bo7sPiPs"
      },
      "source": [
        "Dari cuplikan tabel di atas, text yang ingin kita analisis di kolom *review body*. Sedangkan kolom yang menentukan tingkat sentimen dari review adalah *star_rating*, namun kolom *star_rating* masih dalam range 1, 2, 3, 4, dan 5. "
      ]
    },
    {
      "cell_type": "markdown",
      "metadata": {
        "id": "utbBuzfiP2Ob"
      },
      "source": [
        "Dalam klasifikasi ini, kita akan menggolongkan sebuah review ke dalam 2 label kategori: POSITIF (1), DAN NEGATIF(0). Terlebih dahulu kita akan mengkonversi *star_rating* ke dalam 2 kategori tersebut."
      ]
    },
    {
      "cell_type": "markdown",
      "metadata": {
        "id": "B5BMLpJVz0oN"
      },
      "source": [
        "Untuk mempermudah training dan penilaian, kolom yang memiliki *star_review* = 3 akan kita eliminasikan."
      ]
    },
    {
      "cell_type": "code",
      "metadata": {
        "id": "rRdEkINRMjS_"
      },
      "source": [
        "df = df[df['star_rating'] != 3]"
      ],
      "execution_count": null,
      "outputs": []
    },
    {
      "cell_type": "code",
      "metadata": {
        "colab": {
          "base_uri": "https://localhost:8080/",
          "height": 542
        },
        "id": "AoB33I5F1aBS",
        "outputId": "8bf0f194-fc89-4944-a68d-adf90580a262"
      },
      "source": [
        "# Membuat kondisi untuk mengisi kolom 'label' berdasarkan kolom 'star_rating'\n",
        "\n",
        "conditions = [\n",
        "    (df['star_rating'] == 1),\n",
        "    (df['star_rating'] == 2),\n",
        "  #  (df['star_rating'] == 3),\n",
        "    (df['star_rating'] == 4),\n",
        "    (df['star_rating'] == 5)\n",
        "    ]\n",
        "\n",
        "# List of values untuk kolom label\n",
        "values = [0, 0, 1, 1]\n",
        "# values = [-1, -1, 0, 1, 1]\n",
        "\n",
        "# Buat kolom 'label' lalu isi sesuai conditions dan values yang sudah ditetapkan\n",
        "df['label'] = np.select(conditions, values)\n",
        "\n",
        "# Menampilkan data frame dengan kolom 'label'\n",
        "df.tail()"
      ],
      "execution_count": null,
      "outputs": [
        {
          "output_type": "execute_result",
          "data": {
            "text/html": [
              "<div>\n",
              "<style scoped>\n",
              "    .dataframe tbody tr th:only-of-type {\n",
              "        vertical-align: middle;\n",
              "    }\n",
              "\n",
              "    .dataframe tbody tr th {\n",
              "        vertical-align: top;\n",
              "    }\n",
              "\n",
              "    .dataframe thead th {\n",
              "        text-align: right;\n",
              "    }\n",
              "</style>\n",
              "<table border=\"1\" class=\"dataframe\">\n",
              "  <thead>\n",
              "    <tr style=\"text-align: right;\">\n",
              "      <th></th>\n",
              "      <th>marketplace</th>\n",
              "      <th>customer_id</th>\n",
              "      <th>review_id</th>\n",
              "      <th>product_id</th>\n",
              "      <th>product_parent</th>\n",
              "      <th>product_title</th>\n",
              "      <th>product_category</th>\n",
              "      <th>star_rating</th>\n",
              "      <th>helpful_votes</th>\n",
              "      <th>total_votes</th>\n",
              "      <th>vine</th>\n",
              "      <th>verified_purchase</th>\n",
              "      <th>review_headline</th>\n",
              "      <th>review_body</th>\n",
              "      <th>review_date</th>\n",
              "      <th>label</th>\n",
              "    </tr>\n",
              "  </thead>\n",
              "  <tbody>\n",
              "    <tr>\n",
              "      <th>1749143</th>\n",
              "      <td>US</td>\n",
              "      <td>52873209</td>\n",
              "      <td>R7W6TPBOZ7WJZ</td>\n",
              "      <td>B00000J0HR</td>\n",
              "      <td>865087255</td>\n",
              "      <td>Sassy Smiley Face Rattle</td>\n",
              "      <td>Baby</td>\n",
              "      <td>5</td>\n",
              "      <td>2.0</td>\n",
              "      <td>2.0</td>\n",
              "      <td>N</td>\n",
              "      <td>N</td>\n",
              "      <td>Great toy</td>\n",
              "      <td>My 6 month old son loves to play with this toy...</td>\n",
              "      <td>1999-07-14</td>\n",
              "      <td>1</td>\n",
              "    </tr>\n",
              "    <tr>\n",
              "      <th>1749144</th>\n",
              "      <td>US</td>\n",
              "      <td>51161415</td>\n",
              "      <td>R1Y4I7KYF7Y5MH</td>\n",
              "      <td>B00000J0HU</td>\n",
              "      <td>640300757</td>\n",
              "      <td>Sassy 836 - Fascination Station (Discontinued ...</td>\n",
              "      <td>Baby</td>\n",
              "      <td>5</td>\n",
              "      <td>0.0</td>\n",
              "      <td>0.0</td>\n",
              "      <td>N</td>\n",
              "      <td>N</td>\n",
              "      <td>a must have for active babies</td>\n",
              "      <td>Not only does my son love this toy but so do I...</td>\n",
              "      <td>1999-07-14</td>\n",
              "      <td>1</td>\n",
              "    </tr>\n",
              "    <tr>\n",
              "      <th>1749145</th>\n",
              "      <td>US</td>\n",
              "      <td>52165416</td>\n",
              "      <td>R35M9WTWVWMLX9</td>\n",
              "      <td>B00000ISE2</td>\n",
              "      <td>455759081</td>\n",
              "      <td>Neurosmith - Music Blocks with Mozart Music Ca...</td>\n",
              "      <td>Baby</td>\n",
              "      <td>5</td>\n",
              "      <td>27.0</td>\n",
              "      <td>27.0</td>\n",
              "      <td>N</td>\n",
              "      <td>N</td>\n",
              "      <td>Great Music, Great Fun</td>\n",
              "      <td>This toy offers a fun learning experience and ...</td>\n",
              "      <td>1999-07-13</td>\n",
              "      <td>1</td>\n",
              "    </tr>\n",
              "    <tr>\n",
              "      <th>1749146</th>\n",
              "      <td>US</td>\n",
              "      <td>52784607</td>\n",
              "      <td>R2LUF1DDNNRNAJ</td>\n",
              "      <td>B00000DMCK</td>\n",
              "      <td>608283258</td>\n",
              "      <td>Lamaze Grip &amp; Grab Rattle (Discontinued by Man...</td>\n",
              "      <td>Baby</td>\n",
              "      <td>5</td>\n",
              "      <td>18.0</td>\n",
              "      <td>18.0</td>\n",
              "      <td>N</td>\n",
              "      <td>N</td>\n",
              "      <td>The rattle that keeps up with your childs abil...</td>\n",
              "      <td>Our three-month-old had fun with this as soon ...</td>\n",
              "      <td>1999-07-13</td>\n",
              "      <td>1</td>\n",
              "    </tr>\n",
              "    <tr>\n",
              "      <th>1749147</th>\n",
              "      <td>US</td>\n",
              "      <td>52165046</td>\n",
              "      <td>RV7B3DO7H3GC8</td>\n",
              "      <td>B00000J0HV</td>\n",
              "      <td>919392690</td>\n",
              "      <td>Sassy Hourglass Rattle</td>\n",
              "      <td>Baby</td>\n",
              "      <td>5</td>\n",
              "      <td>2.0</td>\n",
              "      <td>2.0</td>\n",
              "      <td>N</td>\n",
              "      <td>N</td>\n",
              "      <td>Colorful, intriguing, and exciting rattle!</td>\n",
              "      <td>The hourglass rattle by Sassy is definitely a ...</td>\n",
              "      <td>1999-07-13</td>\n",
              "      <td>1</td>\n",
              "    </tr>\n",
              "  </tbody>\n",
              "</table>\n",
              "</div>"
            ],
            "text/plain": [
              "        marketplace  customer_id  ... review_date label\n",
              "1749143          US     52873209  ...  1999-07-14     1\n",
              "1749144          US     51161415  ...  1999-07-14     1\n",
              "1749145          US     52165416  ...  1999-07-13     1\n",
              "1749146          US     52784607  ...  1999-07-13     1\n",
              "1749147          US     52165046  ...  1999-07-13     1\n",
              "\n",
              "[5 rows x 16 columns]"
            ]
          },
          "metadata": {
            "tags": []
          },
          "execution_count": 10
        }
      ]
    },
    {
      "cell_type": "code",
      "metadata": {
        "colab": {
          "base_uri": "https://localhost:8080/",
          "height": 516
        },
        "id": "Q_LO03g6X8YR",
        "outputId": "999c295d-62e8-46a2-a9cb-2538bf369670"
      },
      "source": [
        "label_cnt = Counter(df.label)\n",
        "\n",
        "plt.figure(figsize=(16,8))\n",
        "plt.bar(label_cnt.keys(), label_cnt.values())\n",
        "plt.title(\"Dataset labels distribuition\")"
      ],
      "execution_count": null,
      "outputs": [
        {
          "output_type": "execute_result",
          "data": {
            "text/plain": [
              "Text(0.5, 1.0, 'Dataset labels distribuition')"
            ]
          },
          "metadata": {
            "tags": []
          },
          "execution_count": 11
        },
        {
          "output_type": "display_data",
          "data": {
            "image/png": "[encoded data removed]",
            "text/plain": [
              "<Figure size 1152x576 with 1 Axes>"
            ]
          },
          "metadata": {
            "tags": [],
            "needs_background": "light"
          }
        }
      ]
    },
    {
      "cell_type": "markdown",
      "metadata": {
        "id": "dg5w13BIRQo0"
      },
      "source": [
        "Buat data frame baru yang hanya berisikan *label* dan *review_body* saja."
      ]
    },
    {
      "cell_type": "code",
      "metadata": {
        "colab": {
          "base_uri": "https://localhost:8080/",
          "height": 203
        },
        "id": "dg4HG9ik5BAo",
        "outputId": "ffed49d4-121a-4789-c5b1-902fb2f82e92"
      },
      "source": [
        "df2 = df[['label', 'review_body']].copy()\n",
        "df2.head()"
      ],
      "execution_count": null,
      "outputs": [
        {
          "output_type": "execute_result",
          "data": {
            "text/html": [
              "<div>\n",
              "<style scoped>\n",
              "    .dataframe tbody tr th:only-of-type {\n",
              "        vertical-align: middle;\n",
              "    }\n",
              "\n",
              "    .dataframe tbody tr th {\n",
              "        vertical-align: top;\n",
              "    }\n",
              "\n",
              "    .dataframe thead th {\n",
              "        text-align: right;\n",
              "    }\n",
              "</style>\n",
              "<table border=\"1\" class=\"dataframe\">\n",
              "  <thead>\n",
              "    <tr style=\"text-align: right;\">\n",
              "      <th></th>\n",
              "      <th>label</th>\n",
              "      <th>review_body</th>\n",
              "    </tr>\n",
              "  </thead>\n",
              "  <tbody>\n",
              "    <tr>\n",
              "      <th>0</th>\n",
              "      <td>1</td>\n",
              "      <td>Loved these swaddle blankets and so did my dau...</td>\n",
              "    </tr>\n",
              "    <tr>\n",
              "      <th>1</th>\n",
              "      <td>1</td>\n",
              "      <td>These are adorable pacifier clips. SavvyBaby h...</td>\n",
              "    </tr>\n",
              "    <tr>\n",
              "      <th>2</th>\n",
              "      <td>1</td>\n",
              "      <td>Great gift</td>\n",
              "    </tr>\n",
              "    <tr>\n",
              "      <th>3</th>\n",
              "      <td>1</td>\n",
              "      <td>These forks are great for my 10 month old daug...</td>\n",
              "    </tr>\n",
              "    <tr>\n",
              "      <th>4</th>\n",
              "      <td>1</td>\n",
              "      <td>I wanted something for piece of mind with my l...</td>\n",
              "    </tr>\n",
              "  </tbody>\n",
              "</table>\n",
              "</div>"
            ],
            "text/plain": [
              "   label                                        review_body\n",
              "0      1  Loved these swaddle blankets and so did my dau...\n",
              "1      1  These are adorable pacifier clips. SavvyBaby h...\n",
              "2      1                                         Great gift\n",
              "3      1  These forks are great for my 10 month old daug...\n",
              "4      1  I wanted something for piece of mind with my l..."
            ]
          },
          "metadata": {
            "tags": []
          },
          "execution_count": 11
        }
      ]
    },
    {
      "cell_type": "markdown",
      "metadata": {
        "id": "d0m67qXaReG9"
      },
      "source": [
        "Buat kolom baru yaitu *text* yang berisikan copy dari *review_body* untuk  kita lakukan text processing. Kolom *text* harus berupa object/string."
      ]
    },
    {
      "cell_type": "code",
      "metadata": {
        "id": "7_jsJ1-XDcb-"
      },
      "source": [
        "df2['text'] = df2[\"review_body\"].astype(str)"
      ],
      "execution_count": null,
      "outputs": []
    },
    {
      "cell_type": "code",
      "metadata": {
        "colab": {
          "base_uri": "https://localhost:8080/",
          "height": 203
        },
        "id": "a70JQqq7Ev_m",
        "outputId": "bd1deb52-9e2b-45d3-80d1-325309281626"
      },
      "source": [
        "df2.head()"
      ],
      "execution_count": null,
      "outputs": [
        {
          "output_type": "execute_result",
          "data": {
            "text/html": [
              "<div>\n",
              "<style scoped>\n",
              "    .dataframe tbody tr th:only-of-type {\n",
              "        vertical-align: middle;\n",
              "    }\n",
              "\n",
              "    .dataframe tbody tr th {\n",
              "        vertical-align: top;\n",
              "    }\n",
              "\n",
              "    .dataframe thead th {\n",
              "        text-align: right;\n",
              "    }\n",
              "</style>\n",
              "<table border=\"1\" class=\"dataframe\">\n",
              "  <thead>\n",
              "    <tr style=\"text-align: right;\">\n",
              "      <th></th>\n",
              "      <th>label</th>\n",
              "      <th>review_body</th>\n",
              "      <th>text</th>\n",
              "    </tr>\n",
              "  </thead>\n",
              "  <tbody>\n",
              "    <tr>\n",
              "      <th>0</th>\n",
              "      <td>1</td>\n",
              "      <td>Loved these swaddle blankets and so did my dau...</td>\n",
              "      <td>Loved these swaddle blankets and so did my dau...</td>\n",
              "    </tr>\n",
              "    <tr>\n",
              "      <th>1</th>\n",
              "      <td>1</td>\n",
              "      <td>These are adorable pacifier clips. SavvyBaby h...</td>\n",
              "      <td>These are adorable pacifier clips. SavvyBaby h...</td>\n",
              "    </tr>\n",
              "    <tr>\n",
              "      <th>2</th>\n",
              "      <td>1</td>\n",
              "      <td>Great gift</td>\n",
              "      <td>Great gift</td>\n",
              "    </tr>\n",
              "    <tr>\n",
              "      <th>3</th>\n",
              "      <td>1</td>\n",
              "      <td>These forks are great for my 10 month old daug...</td>\n",
              "      <td>These forks are great for my 10 month old daug...</td>\n",
              "    </tr>\n",
              "    <tr>\n",
              "      <th>4</th>\n",
              "      <td>1</td>\n",
              "      <td>I wanted something for piece of mind with my l...</td>\n",
              "      <td>I wanted something for piece of mind with my l...</td>\n",
              "    </tr>\n",
              "  </tbody>\n",
              "</table>\n",
              "</div>"
            ],
            "text/plain": [
              "   label  ...                                               text\n",
              "0      1  ...  Loved these swaddle blankets and so did my dau...\n",
              "1      1  ...  These are adorable pacifier clips. SavvyBaby h...\n",
              "2      1  ...                                         Great gift\n",
              "3      1  ...  These forks are great for my 10 month old daug...\n",
              "4      1  ...  I wanted something for piece of mind with my l...\n",
              "\n",
              "[5 rows x 3 columns]"
            ]
          },
          "metadata": {
            "tags": []
          },
          "execution_count": 13
        }
      ]
    },
    {
      "cell_type": "markdown",
      "metadata": {
        "id": "Hyc4FiisH8n3"
      },
      "source": [
        "Periksa data type untuk masing-masing kolom."
      ]
    },
    {
      "cell_type": "code",
      "metadata": {
        "colab": {
          "base_uri": "https://localhost:8080/"
        },
        "id": "GBXBYqmP9p2C",
        "outputId": "e485b71e-8ee9-45ee-ef84-8765078c8733"
      },
      "source": [
        "df2.dtypes"
      ],
      "execution_count": null,
      "outputs": [
        {
          "output_type": "execute_result",
          "data": {
            "text/plain": [
              "label           int64\n",
              "review_body    object\n",
              "text           object\n",
              "dtype: object"
            ]
          },
          "metadata": {
            "tags": []
          },
          "execution_count": 14
        }
      ]
    },
    {
      "cell_type": "markdown",
      "metadata": {
        "id": "7qApFWwBSGeP"
      },
      "source": [
        "# Text Processing"
      ]
    },
    {
      "cell_type": "markdown",
      "metadata": {
        "id": "AVHdTvkSSMqK"
      },
      "source": [
        "Sebelum masih ke training dan pembuatan model, ada beberapa tahap text processing yang harus dilalui, seperti lower-casing, words stemming (contoh, running --> run), penghapusan stop words, dan penghapusan tanda baca,\n",
        "\n",
        "\n"
      ]
    },
    {
      "cell_type": "markdown",
      "metadata": {
        "id": "ubtiJrEZS836"
      },
      "source": [
        "Stopwords package sudah didownload dari NLTK library."
      ]
    },
    {
      "cell_type": "code",
      "metadata": {
        "id": "KXPmdIYW-ZIP"
      },
      "source": [
        "stop_words = stopwords.words(\"english\")\n",
        "stemmer = SnowballStemmer(\"english\")"
      ],
      "execution_count": null,
      "outputs": []
    },
    {
      "cell_type": "code",
      "metadata": {
        "id": "LsxjCyKATDMJ"
      },
      "source": [
        "# Penghapusan tanda baca & stop word\n",
        "\n",
        "def preprocess(text, stem=False):\n",
        "    text = re.sub(TEXT_CLEANING_RE, ' ', str(text).lower()).strip()\n",
        "    tokens = []\n",
        "    for token in text.split():\n",
        "        if token not in stop_words:\n",
        "            if stem:\n",
        "                tokens.append(stemmer.stem(token))\n",
        "            else:\n",
        "                tokens.append(token)\n",
        "    return \" \".join(tokens)"
      ],
      "execution_count": null,
      "outputs": []
    },
    {
      "cell_type": "code",
      "metadata": {
        "id": "FMK8gIaeKxVc"
      },
      "source": [
        "# lower-casing\n",
        "\n",
        "df2.text = df2.text.apply(lambda x: preprocess(x))"
      ],
      "execution_count": null,
      "outputs": []
    },
    {
      "cell_type": "markdown",
      "metadata": {
        "id": "4O1wIn2fOJwG"
      },
      "source": [
        "# Split Train and Test Data"
      ]
    },
    {
      "cell_type": "code",
      "metadata": {
        "id": "dO-VAlYU-ZCy"
      },
      "source": [
        "df_train = df2.sample(frac=0.8, random_state=0)\n",
        "df_test = df2.sample(frac=0.2, random_state=0)"
      ],
      "execution_count": null,
      "outputs": []
    },
    {
      "cell_type": "markdown",
      "metadata": {
        "id": "1G7-1QB5a_08"
      },
      "source": [
        "# Word2Vec"
      ]
    },
    {
      "cell_type": "markdown",
      "metadata": {
        "id": "P4B21lHP0Ojf"
      },
      "source": [
        "Word2V"
      ]
    },
    {
      "cell_type": "code",
      "metadata": {
        "id": "it1KiyOCOQWL"
      },
      "source": [
        "documents = [_text.split() for _text in df_train.text] "
      ],
      "execution_count": null,
      "outputs": []
    },
    {
      "cell_type": "code",
      "metadata": {
        "colab": {
          "base_uri": "https://localhost:8080/"
        },
        "id": "Jgr_PN5GOS3E",
        "outputId": "e34d6b3f-6ec5-48a9-a9e2-cfc1038a9077"
      },
      "source": [
        "w2v_model = gensim.models.word2vec.Word2Vec(window=W2V_WINDOW, \n",
        "                                            min_count=W2V_MIN_COUNT, \n",
        "                                            workers=8)"
      ],
      "execution_count": null,
      "outputs": [
        {
          "output_type": "stream",
          "text": [
            "2021-07-25 14:52:00,101 : INFO : Word2Vec lifecycle event {'params': 'Word2Vec(vocab=0, vector_size=100, alpha=0.025)', 'datetime': '2021-07-25T14:52:00.101301', 'gensim': '4.0.1', 'python': '3.7.11 (default, Jul  3 2021, 18:01:19) \\n[GCC 7.5.0]', 'platform': 'Linux-5.4.104+-x86_64-with-Ubuntu-18.04-bionic', 'event': 'created'}\n"
          ],
          "name": "stderr"
        }
      ]
    },
    {
      "cell_type": "code",
      "metadata": {
        "id": "Z07v101OOWL3",
        "colab": {
          "base_uri": "https://localhost:8080/"
        },
        "outputId": "24f4a59f-3e55-40f3-bc80-0e9bf36b6128"
      },
      "source": [
        "w2v_model.build_vocab(documents)"
      ],
      "execution_count": null,
      "outputs": [
        {
          "output_type": "stream",
          "text": [
            "2021-07-25 14:52:03,255 : INFO : collecting all words and their counts\n",
            "2021-07-25 14:52:03,259 : INFO : PROGRESS: at sentence #0, processed 0 words, keeping 0 word types\n",
            "2021-07-25 14:52:03,327 : INFO : PROGRESS: at sentence #10000, processed 305845 words, keeping 14765 word types\n",
            "2021-07-25 14:52:03,393 : INFO : PROGRESS: at sentence #20000, processed 620700 words, keeping 19996 word types\n",
            "2021-07-25 14:52:03,457 : INFO : PROGRESS: at sentence #30000, processed 930119 words, keeping 23814 word types\n",
            "2021-07-25 14:52:03,525 : INFO : PROGRESS: at sentence #40000, processed 1248154 words, keeping 27081 word types\n",
            "2021-07-25 14:52:03,589 : INFO : PROGRESS: at sentence #50000, processed 1562540 words, keeping 29943 word types\n",
            "2021-07-25 14:52:03,651 : INFO : PROGRESS: at sentence #60000, processed 1880225 words, keeping 32509 word types\n",
            "2021-07-25 14:52:03,714 : INFO : PROGRESS: at sentence #70000, processed 2195702 words, keeping 34781 word types\n",
            "2021-07-25 14:52:03,780 : INFO : PROGRESS: at sentence #80000, processed 2503327 words, keeping 36953 word types\n",
            "2021-07-25 14:52:03,847 : INFO : PROGRESS: at sentence #90000, processed 2817010 words, keeping 38912 word types\n",
            "2021-07-25 14:52:03,920 : INFO : PROGRESS: at sentence #100000, processed 3133125 words, keeping 40836 word types\n",
            "2021-07-25 14:52:03,992 : INFO : PROGRESS: at sentence #110000, processed 3446794 words, keeping 42567 word types\n",
            "2021-07-25 14:52:04,062 : INFO : PROGRESS: at sentence #120000, processed 3766061 words, keeping 44329 word types\n",
            "2021-07-25 14:52:04,142 : INFO : PROGRESS: at sentence #130000, processed 4078535 words, keeping 45932 word types\n",
            "2021-07-25 14:52:04,211 : INFO : PROGRESS: at sentence #140000, processed 4385273 words, keeping 47482 word types\n",
            "2021-07-25 14:52:04,284 : INFO : PROGRESS: at sentence #150000, processed 4700115 words, keeping 49042 word types\n",
            "2021-07-25 14:52:04,354 : INFO : PROGRESS: at sentence #160000, processed 5021809 words, keeping 50588 word types\n",
            "2021-07-25 14:52:04,426 : INFO : PROGRESS: at sentence #170000, processed 5339707 words, keeping 52166 word types\n",
            "2021-07-25 14:52:04,498 : INFO : PROGRESS: at sentence #180000, processed 5651401 words, keeping 53515 word types\n",
            "2021-07-25 14:52:04,568 : INFO : PROGRESS: at sentence #190000, processed 5965249 words, keeping 54925 word types\n",
            "2021-07-25 14:52:04,641 : INFO : PROGRESS: at sentence #200000, processed 6278506 words, keeping 56270 word types\n",
            "2021-07-25 14:52:04,711 : INFO : PROGRESS: at sentence #210000, processed 6593426 words, keeping 57632 word types\n",
            "2021-07-25 14:52:04,784 : INFO : PROGRESS: at sentence #220000, processed 6907620 words, keeping 58879 word types\n",
            "2021-07-25 14:52:04,855 : INFO : PROGRESS: at sentence #230000, processed 7224031 words, keeping 60129 word types\n",
            "2021-07-25 14:52:04,928 : INFO : PROGRESS: at sentence #240000, processed 7536400 words, keeping 61357 word types\n",
            "2021-07-25 14:52:04,997 : INFO : PROGRESS: at sentence #250000, processed 7854341 words, keeping 62521 word types\n",
            "2021-07-25 14:52:05,073 : INFO : PROGRESS: at sentence #260000, processed 8170690 words, keeping 63662 word types\n",
            "2021-07-25 14:52:05,166 : INFO : PROGRESS: at sentence #270000, processed 8485399 words, keeping 64749 word types\n",
            "2021-07-25 14:52:05,238 : INFO : PROGRESS: at sentence #280000, processed 8805706 words, keeping 65870 word types\n",
            "2021-07-25 14:52:05,307 : INFO : PROGRESS: at sentence #290000, processed 9114222 words, keeping 66943 word types\n",
            "2021-07-25 14:52:05,378 : INFO : PROGRESS: at sentence #300000, processed 9424285 words, keeping 68020 word types\n",
            "2021-07-25 14:52:05,447 : INFO : PROGRESS: at sentence #310000, processed 9740266 words, keeping 69099 word types\n",
            "2021-07-25 14:52:05,517 : INFO : PROGRESS: at sentence #320000, processed 10048698 words, keeping 70102 word types\n",
            "2021-07-25 14:52:05,587 : INFO : PROGRESS: at sentence #330000, processed 10361002 words, keeping 71098 word types\n",
            "2021-07-25 14:52:05,663 : INFO : PROGRESS: at sentence #340000, processed 10676991 words, keeping 72275 word types\n",
            "2021-07-25 14:52:05,742 : INFO : PROGRESS: at sentence #350000, processed 10996999 words, keeping 73328 word types\n",
            "2021-07-25 14:52:05,813 : INFO : PROGRESS: at sentence #360000, processed 11308742 words, keeping 74254 word types\n",
            "2021-07-25 14:52:05,882 : INFO : PROGRESS: at sentence #370000, processed 11622680 words, keeping 75268 word types\n",
            "2021-07-25 14:52:05,951 : INFO : PROGRESS: at sentence #380000, processed 11936103 words, keeping 76152 word types\n",
            "2021-07-25 14:52:06,020 : INFO : PROGRESS: at sentence #390000, processed 12248413 words, keeping 77056 word types\n",
            "2021-07-25 14:52:06,091 : INFO : PROGRESS: at sentence #400000, processed 12563516 words, keeping 77933 word types\n",
            "2021-07-25 14:52:06,166 : INFO : PROGRESS: at sentence #410000, processed 12870921 words, keeping 78831 word types\n",
            "2021-07-25 14:52:06,240 : INFO : PROGRESS: at sentence #420000, processed 13187775 words, keeping 79829 word types\n",
            "2021-07-25 14:52:06,315 : INFO : PROGRESS: at sentence #430000, processed 13512599 words, keeping 80788 word types\n",
            "2021-07-25 14:52:06,391 : INFO : PROGRESS: at sentence #440000, processed 13831562 words, keeping 81639 word types\n",
            "2021-07-25 14:52:06,466 : INFO : PROGRESS: at sentence #450000, processed 14145235 words, keeping 82525 word types\n",
            "2021-07-25 14:52:06,538 : INFO : PROGRESS: at sentence #460000, processed 14461338 words, keeping 83381 word types\n",
            "2021-07-25 14:52:06,602 : INFO : PROGRESS: at sentence #470000, processed 14772090 words, keeping 84295 word types\n",
            "2021-07-25 14:52:06,671 : INFO : PROGRESS: at sentence #480000, processed 15081606 words, keeping 85155 word types\n",
            "2021-07-25 14:52:06,739 : INFO : PROGRESS: at sentence #490000, processed 15387243 words, keeping 85969 word types\n",
            "2021-07-25 14:52:06,807 : INFO : PROGRESS: at sentence #500000, processed 15699294 words, keeping 86788 word types\n",
            "2021-07-25 14:52:06,882 : INFO : PROGRESS: at sentence #510000, processed 16019025 words, keeping 87716 word types\n",
            "2021-07-25 14:52:06,960 : INFO : PROGRESS: at sentence #520000, processed 16335078 words, keeping 88563 word types\n",
            "2021-07-25 14:52:07,028 : INFO : PROGRESS: at sentence #530000, processed 16646549 words, keeping 89410 word types\n",
            "2021-07-25 14:52:07,098 : INFO : PROGRESS: at sentence #540000, processed 16961052 words, keeping 90219 word types\n",
            "2021-07-25 14:52:07,172 : INFO : PROGRESS: at sentence #550000, processed 17270782 words, keeping 90979 word types\n",
            "2021-07-25 14:52:07,238 : INFO : PROGRESS: at sentence #560000, processed 17588850 words, keeping 91781 word types\n",
            "2021-07-25 14:52:07,314 : INFO : PROGRESS: at sentence #570000, processed 17902582 words, keeping 92481 word types\n",
            "2021-07-25 14:52:07,390 : INFO : PROGRESS: at sentence #580000, processed 18214835 words, keeping 93358 word types\n",
            "2021-07-25 14:52:07,459 : INFO : PROGRESS: at sentence #590000, processed 18528923 words, keeping 94121 word types\n",
            "2021-07-25 14:52:07,528 : INFO : PROGRESS: at sentence #600000, processed 18848266 words, keeping 94920 word types\n",
            "2021-07-25 14:52:07,601 : INFO : PROGRESS: at sentence #610000, processed 19158840 words, keeping 95643 word types\n",
            "2021-07-25 14:52:07,671 : INFO : PROGRESS: at sentence #620000, processed 19472593 words, keeping 96432 word types\n",
            "2021-07-25 14:52:07,740 : INFO : PROGRESS: at sentence #630000, processed 19790773 words, keeping 97235 word types\n",
            "2021-07-25 14:52:07,812 : INFO : PROGRESS: at sentence #640000, processed 20114378 words, keeping 97964 word types\n",
            "2021-07-25 14:52:07,880 : INFO : PROGRESS: at sentence #650000, processed 20429570 words, keeping 98676 word types\n",
            "2021-07-25 14:52:07,952 : INFO : PROGRESS: at sentence #660000, processed 20736373 words, keeping 99407 word types\n",
            "2021-07-25 14:52:08,024 : INFO : PROGRESS: at sentence #670000, processed 21051434 words, keeping 100167 word types\n",
            "2021-07-25 14:52:08,094 : INFO : PROGRESS: at sentence #680000, processed 21372136 words, keeping 100953 word types\n",
            "2021-07-25 14:52:08,171 : INFO : PROGRESS: at sentence #690000, processed 21682288 words, keeping 101632 word types\n",
            "2021-07-25 14:52:08,247 : INFO : PROGRESS: at sentence #700000, processed 21998061 words, keeping 102345 word types\n",
            "2021-07-25 14:52:08,321 : INFO : PROGRESS: at sentence #710000, processed 22318588 words, keeping 103029 word types\n",
            "2021-07-25 14:52:08,392 : INFO : PROGRESS: at sentence #720000, processed 22632840 words, keeping 103803 word types\n",
            "2021-07-25 14:52:08,464 : INFO : PROGRESS: at sentence #730000, processed 22950044 words, keeping 104494 word types\n",
            "2021-07-25 14:52:08,534 : INFO : PROGRESS: at sentence #740000, processed 23266702 words, keeping 105172 word types\n",
            "2021-07-25 14:52:08,608 : INFO : PROGRESS: at sentence #750000, processed 23580706 words, keeping 105868 word types\n",
            "2021-07-25 14:52:08,679 : INFO : PROGRESS: at sentence #760000, processed 23896812 words, keeping 106563 word types\n",
            "2021-07-25 14:52:08,749 : INFO : PROGRESS: at sentence #770000, processed 24209253 words, keeping 107288 word types\n",
            "2021-07-25 14:52:08,820 : INFO : PROGRESS: at sentence #780000, processed 24519619 words, keeping 107930 word types\n",
            "2021-07-25 14:52:08,891 : INFO : PROGRESS: at sentence #790000, processed 24827768 words, keeping 108610 word types\n",
            "2021-07-25 14:52:08,962 : INFO : PROGRESS: at sentence #800000, processed 25144757 words, keeping 109254 word types\n",
            "2021-07-25 14:52:09,039 : INFO : PROGRESS: at sentence #810000, processed 25465033 words, keeping 109900 word types\n",
            "2021-07-25 14:52:09,113 : INFO : PROGRESS: at sentence #820000, processed 25780874 words, keeping 110600 word types\n",
            "2021-07-25 14:52:09,192 : INFO : PROGRESS: at sentence #830000, processed 26089036 words, keeping 111249 word types\n",
            "2021-07-25 14:52:09,262 : INFO : PROGRESS: at sentence #840000, processed 26410225 words, keeping 111973 word types\n",
            "2021-07-25 14:52:09,334 : INFO : PROGRESS: at sentence #850000, processed 26718627 words, keeping 112569 word types\n",
            "2021-07-25 14:52:09,406 : INFO : PROGRESS: at sentence #860000, processed 27028873 words, keeping 113236 word types\n",
            "2021-07-25 14:52:09,471 : INFO : PROGRESS: at sentence #870000, processed 27331085 words, keeping 113907 word types\n",
            "2021-07-25 14:52:09,542 : INFO : PROGRESS: at sentence #880000, processed 27643852 words, keeping 114535 word types\n",
            "2021-07-25 14:52:09,611 : INFO : PROGRESS: at sentence #890000, processed 27962797 words, keeping 115138 word types\n",
            "2021-07-25 14:52:09,684 : INFO : PROGRESS: at sentence #900000, processed 28281875 words, keeping 115793 word types\n",
            "2021-07-25 14:52:09,755 : INFO : PROGRESS: at sentence #910000, processed 28591578 words, keeping 116441 word types\n",
            "2021-07-25 14:52:09,822 : INFO : PROGRESS: at sentence #920000, processed 28905342 words, keeping 117052 word types\n",
            "2021-07-25 14:52:09,891 : INFO : PROGRESS: at sentence #930000, processed 29218415 words, keeping 117693 word types\n",
            "2021-07-25 14:52:09,964 : INFO : PROGRESS: at sentence #940000, processed 29535310 words, keeping 118299 word types\n",
            "2021-07-25 14:52:10,037 : INFO : PROGRESS: at sentence #950000, processed 29851726 words, keeping 118915 word types\n",
            "2021-07-25 14:52:10,112 : INFO : PROGRESS: at sentence #960000, processed 30167366 words, keeping 119518 word types\n",
            "2021-07-25 14:52:10,191 : INFO : PROGRESS: at sentence #970000, processed 30487251 words, keeping 120124 word types\n",
            "2021-07-25 14:52:10,260 : INFO : PROGRESS: at sentence #980000, processed 30794544 words, keeping 120667 word types\n",
            "2021-07-25 14:52:10,329 : INFO : PROGRESS: at sentence #990000, processed 31116279 words, keeping 121351 word types\n",
            "2021-07-25 14:52:10,406 : INFO : PROGRESS: at sentence #1000000, processed 31430833 words, keeping 121915 word types\n",
            "2021-07-25 14:52:10,476 : INFO : PROGRESS: at sentence #1010000, processed 31738013 words, keeping 122604 word types\n",
            "2021-07-25 14:52:10,542 : INFO : PROGRESS: at sentence #1020000, processed 32047246 words, keeping 123191 word types\n",
            "2021-07-25 14:52:10,611 : INFO : PROGRESS: at sentence #1030000, processed 32358776 words, keeping 123759 word types\n",
            "2021-07-25 14:52:10,683 : INFO : PROGRESS: at sentence #1040000, processed 32674351 words, keeping 124382 word types\n",
            "2021-07-25 14:52:10,753 : INFO : PROGRESS: at sentence #1050000, processed 32988202 words, keeping 124965 word types\n",
            "2021-07-25 14:52:10,831 : INFO : PROGRESS: at sentence #1060000, processed 33298211 words, keeping 125522 word types\n",
            "2021-07-25 14:52:10,914 : INFO : PROGRESS: at sentence #1070000, processed 33612965 words, keeping 126131 word types\n",
            "2021-07-25 14:52:10,993 : INFO : PROGRESS: at sentence #1080000, processed 33921559 words, keeping 126669 word types\n",
            "2021-07-25 14:52:11,065 : INFO : PROGRESS: at sentence #1090000, processed 34234886 words, keeping 127271 word types\n",
            "2021-07-25 14:52:11,142 : INFO : PROGRESS: at sentence #1100000, processed 34551720 words, keeping 127865 word types\n",
            "2021-07-25 14:52:11,220 : INFO : PROGRESS: at sentence #1110000, processed 34867568 words, keeping 128435 word types\n",
            "2021-07-25 14:52:11,296 : INFO : PROGRESS: at sentence #1120000, processed 35181615 words, keeping 128994 word types\n",
            "2021-07-25 14:52:11,369 : INFO : PROGRESS: at sentence #1130000, processed 35494079 words, keeping 129585 word types\n",
            "2021-07-25 14:52:11,444 : INFO : PROGRESS: at sentence #1140000, processed 35806169 words, keeping 130152 word types\n",
            "2021-07-25 14:52:11,515 : INFO : PROGRESS: at sentence #1150000, processed 36121527 words, keeping 130769 word types\n",
            "2021-07-25 14:52:11,585 : INFO : PROGRESS: at sentence #1160000, processed 36435234 words, keeping 131310 word types\n",
            "2021-07-25 14:52:11,658 : INFO : PROGRESS: at sentence #1170000, processed 36750472 words, keeping 131879 word types\n",
            "2021-07-25 14:52:11,733 : INFO : PROGRESS: at sentence #1180000, processed 37070517 words, keeping 132457 word types\n",
            "2021-07-25 14:52:11,802 : INFO : PROGRESS: at sentence #1190000, processed 37384821 words, keeping 132985 word types\n",
            "2021-07-25 14:52:11,874 : INFO : PROGRESS: at sentence #1200000, processed 37692989 words, keeping 133573 word types\n",
            "2021-07-25 14:52:11,949 : INFO : PROGRESS: at sentence #1210000, processed 38009099 words, keeping 134142 word types\n",
            "2021-07-25 14:52:12,026 : INFO : PROGRESS: at sentence #1220000, processed 38328959 words, keeping 134700 word types\n",
            "2021-07-25 14:52:12,098 : INFO : PROGRESS: at sentence #1230000, processed 38651508 words, keeping 135277 word types\n",
            "2021-07-25 14:52:12,168 : INFO : PROGRESS: at sentence #1240000, processed 38961287 words, keeping 135837 word types\n",
            "2021-07-25 14:52:12,242 : INFO : PROGRESS: at sentence #1250000, processed 39273129 words, keeping 136378 word types\n",
            "2021-07-25 14:52:12,314 : INFO : PROGRESS: at sentence #1260000, processed 39583186 words, keeping 136889 word types\n",
            "2021-07-25 14:52:12,390 : INFO : PROGRESS: at sentence #1270000, processed 39900955 words, keeping 137467 word types\n",
            "2021-07-25 14:52:12,459 : INFO : PROGRESS: at sentence #1280000, processed 40218456 words, keeping 137975 word types\n",
            "2021-07-25 14:52:12,528 : INFO : PROGRESS: at sentence #1290000, processed 40528077 words, keeping 138471 word types\n",
            "2021-07-25 14:52:12,600 : INFO : PROGRESS: at sentence #1300000, processed 40846773 words, keeping 139026 word types\n",
            "2021-07-25 14:52:12,609 : INFO : collected 139091 word types from a corpus of 40884194 raw words and 1301172 sentences\n",
            "2021-07-25 14:52:12,614 : INFO : Creating a fresh vocabulary\n",
            "2021-07-25 14:52:12,804 : INFO : Word2Vec lifecycle event {'msg': 'effective_min_count=10 retains 30031 unique words (21.59090092097979%% of original 139091, drops 109060)', 'datetime': '2021-07-25T14:52:12.804859', 'gensim': '4.0.1', 'python': '3.7.11 (default, Jul  3 2021, 18:01:19) \\n[GCC 7.5.0]', 'platform': 'Linux-5.4.104+-x86_64-with-Ubuntu-18.04-bionic', 'event': 'prepare_vocab'}\n",
            "2021-07-25 14:52:12,806 : INFO : Word2Vec lifecycle event {'msg': 'effective_min_count=10 leaves 40664531 word corpus (99.46271901556871%% of original 40884194, drops 219663)', 'datetime': '2021-07-25T14:52:12.806491', 'gensim': '4.0.1', 'python': '3.7.11 (default, Jul  3 2021, 18:01:19) \\n[GCC 7.5.0]', 'platform': 'Linux-5.4.104+-x86_64-with-Ubuntu-18.04-bionic', 'event': 'prepare_vocab'}\n",
            "2021-07-25 14:52:13,015 : INFO : deleting the raw counts dictionary of 139091 items\n",
            "2021-07-25 14:52:13,028 : INFO : sample=0.001 downsamples 41 most-common words\n",
            "2021-07-25 14:52:13,029 : INFO : Word2Vec lifecycle event {'msg': 'downsampling leaves estimated 37584126.82390949 word corpus (92.4%% of prior 40664531)', 'datetime': '2021-07-25T14:52:13.029278', 'gensim': '4.0.1', 'python': '3.7.11 (default, Jul  3 2021, 18:01:19) \\n[GCC 7.5.0]', 'platform': 'Linux-5.4.104+-x86_64-with-Ubuntu-18.04-bionic', 'event': 'prepare_vocab'}\n",
            "2021-07-25 14:52:13,371 : INFO : estimated required memory for 30031 words and 100 dimensions: 39040300 bytes\n",
            "2021-07-25 14:52:13,372 : INFO : resetting layer weights\n",
            "2021-07-25 14:52:13,400 : INFO : Word2Vec lifecycle event {'update': False, 'trim_rule': 'None', 'datetime': '2021-07-25T14:52:13.400153', 'gensim': '4.0.1', 'python': '3.7.11 (default, Jul  3 2021, 18:01:19) \\n[GCC 7.5.0]', 'platform': 'Linux-5.4.104+-x86_64-with-Ubuntu-18.04-bionic', 'event': 'build_vocab'}\n"
          ],
          "name": "stderr"
        }
      ]
    },
    {
      "cell_type": "code",
      "metadata": {
        "colab": {
          "base_uri": "https://localhost:8080/"
        },
        "id": "myrFUAtkPDMf",
        "outputId": "4fdef76e-a8fd-4448-9056-09e866514fdb"
      },
      "source": [
        "%%time\n",
        "w2v_model.train(documents, total_examples=len(documents), epochs=20)   #W2V_EPOCH"
      ],
      "execution_count": null,
      "outputs": [
        {
          "output_type": "stream",
          "text": [
            "2021-07-25 14:52:41,121 : INFO : Word2Vec lifecycle event {'msg': 'training model with 8 workers on 30031 vocabulary and 100 features, using sg=0 hs=0 sample=0.001 negative=5 window=7', 'datetime': '2021-07-25T14:52:41.121771', 'gensim': '4.0.1', 'python': '3.7.11 (default, Jul  3 2021, 18:01:19) \\n[GCC 7.5.0]', 'platform': 'Linux-5.4.104+-x86_64-with-Ubuntu-18.04-bionic', 'event': 'train'}\n",
            "2021-07-25 14:52:42,199 : INFO : EPOCH 1 - PROGRESS: at 1.73% examples, 605304 words/s, in_qsize 12, out_qsize 3\n",
            "2021-07-25 14:52:43,216 : INFO : EPOCH 1 - PROGRESS: at 3.50% examples, 630811 words/s, in_qsize 16, out_qsize 0\n",
            "2021-07-25 14:52:44,222 : INFO : EPOCH 1 - PROGRESS: at 5.30% examples, 644447 words/s, in_qsize 15, out_qsize 0\n",
            "2021-07-25 14:52:45,232 : INFO : EPOCH 1 - PROGRESS: at 7.07% examples, 646511 words/s, in_qsize 15, out_qsize 0\n",
            "2021-07-25 14:52:46,245 : INFO : EPOCH 1 - PROGRESS: at 8.85% examples, 650530 words/s, in_qsize 15, out_qsize 0\n",
            "2021-07-25 14:52:47,258 : INFO : EPOCH 1 - PROGRESS: at 10.68% examples, 654582 words/s, in_qsize 15, out_qsize 2\n",
            "2021-07-25 14:52:48,252 : INFO : EPOCH 1 - PROGRESS: at 12.39% examples, 653754 words/s, in_qsize 15, out_qsize 0\n",
            "2021-07-25 14:52:49,256 : INFO : EPOCH 1 - PROGRESS: at 14.17% examples, 655237 words/s, in_qsize 15, out_qsize 0\n",
            "2021-07-25 14:52:50,284 : INFO : EPOCH 1 - PROGRESS: at 15.92% examples, 653628 words/s, in_qsize 15, out_qsize 0\n",
            "2021-07-25 14:52:51,293 : INFO : EPOCH 1 - PROGRESS: at 17.69% examples, 654445 words/s, in_qsize 13, out_qsize 2\n",
            "2021-07-25 14:52:52,308 : INFO : EPOCH 1 - PROGRESS: at 19.44% examples, 653933 words/s, in_qsize 16, out_qsize 0\n",
            "2021-07-25 14:52:53,332 : INFO : EPOCH 1 - PROGRESS: at 21.20% examples, 653832 words/s, in_qsize 15, out_qsize 0\n",
            "2021-07-25 14:52:54,364 : INFO : EPOCH 1 - PROGRESS: at 23.00% examples, 653349 words/s, in_qsize 15, out_qsize 0\n",
            "2021-07-25 14:52:55,383 : INFO : EPOCH 1 - PROGRESS: at 24.79% examples, 653492 words/s, in_qsize 15, out_qsize 0\n",
            "2021-07-25 14:52:56,409 : INFO : EPOCH 1 - PROGRESS: at 26.70% examples, 656852 words/s, in_qsize 15, out_qsize 0\n",
            "2021-07-25 14:52:57,426 : INFO : EPOCH 1 - PROGRESS: at 28.43% examples, 655761 words/s, in_qsize 16, out_qsize 0\n",
            "2021-07-25 14:52:58,446 : INFO : EPOCH 1 - PROGRESS: at 30.26% examples, 656780 words/s, in_qsize 16, out_qsize 0\n",
            "2021-07-25 14:52:59,452 : INFO : EPOCH 1 - PROGRESS: at 31.99% examples, 655726 words/s, in_qsize 14, out_qsize 1\n",
            "2021-07-25 14:53:00,469 : INFO : EPOCH 1 - PROGRESS: at 33.79% examples, 657196 words/s, in_qsize 15, out_qsize 0\n",
            "2021-07-25 14:53:01,501 : INFO : EPOCH 1 - PROGRESS: at 35.53% examples, 656237 words/s, in_qsize 15, out_qsize 0\n",
            "2021-07-25 14:53:02,505 : INFO : EPOCH 1 - PROGRESS: at 37.30% examples, 655784 words/s, in_qsize 12, out_qsize 0\n",
            "2021-07-25 14:53:03,512 : INFO : EPOCH 1 - PROGRESS: at 39.08% examples, 656125 words/s, in_qsize 14, out_qsize 1\n",
            "2021-07-25 14:53:04,524 : INFO : EPOCH 1 - PROGRESS: at 40.84% examples, 655897 words/s, in_qsize 15, out_qsize 0\n",
            "2021-07-25 14:53:05,604 : INFO : EPOCH 1 - PROGRESS: at 42.64% examples, 654692 words/s, in_qsize 15, out_qsize 0\n",
            "2021-07-25 14:53:06,607 : INFO : EPOCH 1 - PROGRESS: at 44.45% examples, 655518 words/s, in_qsize 15, out_qsize 0\n",
            "2021-07-25 14:53:07,616 : INFO : EPOCH 1 - PROGRESS: at 46.27% examples, 656468 words/s, in_qsize 16, out_qsize 0\n",
            "2021-07-25 14:53:08,667 : INFO : EPOCH 1 - PROGRESS: at 48.03% examples, 655342 words/s, in_qsize 13, out_qsize 2\n",
            "2021-07-25 14:53:09,680 : INFO : EPOCH 1 - PROGRESS: at 49.81% examples, 656126 words/s, in_qsize 16, out_qsize 1\n",
            "2021-07-25 14:53:10,711 : INFO : EPOCH 1 - PROGRESS: at 51.51% examples, 654605 words/s, in_qsize 16, out_qsize 0\n",
            "2021-07-25 14:53:11,734 : INFO : EPOCH 1 - PROGRESS: at 53.09% examples, 652146 words/s, in_qsize 15, out_qsize 0\n",
            "2021-07-25 14:53:12,797 : INFO : EPOCH 1 - PROGRESS: at 54.72% examples, 649898 words/s, in_qsize 14, out_qsize 1\n",
            "2021-07-25 14:53:13,813 : INFO : EPOCH 1 - PROGRESS: at 56.44% examples, 649580 words/s, in_qsize 14, out_qsize 1\n",
            "2021-07-25 14:53:14,821 : INFO : EPOCH 1 - PROGRESS: at 58.05% examples, 648091 words/s, in_qsize 15, out_qsize 0\n",
            "2021-07-25 14:53:15,828 : INFO : EPOCH 1 - PROGRESS: at 59.55% examples, 645369 words/s, in_qsize 12, out_qsize 3\n",
            "2021-07-25 14:53:16,837 : INFO : EPOCH 1 - PROGRESS: at 61.21% examples, 644573 words/s, in_qsize 14, out_qsize 1\n",
            "2021-07-25 14:53:17,841 : INFO : EPOCH 1 - PROGRESS: at 62.87% examples, 644134 words/s, in_qsize 15, out_qsize 0\n",
            "2021-07-25 14:53:18,897 : INFO : EPOCH 1 - PROGRESS: at 64.48% examples, 642113 words/s, in_qsize 16, out_qsize 1\n",
            "2021-07-25 14:53:19,902 : INFO : EPOCH 1 - PROGRESS: at 66.16% examples, 641523 words/s, in_qsize 16, out_qsize 0\n",
            "2021-07-25 14:53:20,921 : INFO : EPOCH 1 - PROGRESS: at 67.77% examples, 640053 words/s, in_qsize 13, out_qsize 6\n",
            "2021-07-25 14:53:21,953 : INFO : EPOCH 1 - PROGRESS: at 69.42% examples, 639128 words/s, in_qsize 13, out_qsize 2\n",
            "2021-07-25 14:53:22,968 : INFO : EPOCH 1 - PROGRESS: at 71.02% examples, 638052 words/s, in_qsize 14, out_qsize 4\n",
            "2021-07-25 14:53:24,008 : INFO : EPOCH 1 - PROGRESS: at 72.70% examples, 637329 words/s, in_qsize 13, out_qsize 2\n",
            "2021-07-25 14:53:25,035 : INFO : EPOCH 1 - PROGRESS: at 74.36% examples, 636839 words/s, in_qsize 15, out_qsize 0\n",
            "2021-07-25 14:53:26,105 : INFO : EPOCH 1 - PROGRESS: at 76.01% examples, 635497 words/s, in_qsize 12, out_qsize 3\n",
            "2021-07-25 14:53:27,166 : INFO : EPOCH 1 - PROGRESS: at 77.76% examples, 634987 words/s, in_qsize 16, out_qsize 4\n",
            "2021-07-25 14:53:28,183 : INFO : EPOCH 1 - PROGRESS: at 79.52% examples, 635216 words/s, in_qsize 15, out_qsize 0\n",
            "2021-07-25 14:53:29,185 : INFO : EPOCH 1 - PROGRESS: at 81.04% examples, 633761 words/s, in_qsize 15, out_qsize 3\n",
            "2021-07-25 14:53:30,216 : INFO : EPOCH 1 - PROGRESS: at 82.79% examples, 633685 words/s, in_qsize 15, out_qsize 0\n",
            "2021-07-25 14:53:31,278 : INFO : EPOCH 1 - PROGRESS: at 84.46% examples, 632853 words/s, in_qsize 14, out_qsize 1\n",
            "2021-07-25 14:53:32,281 : INFO : EPOCH 1 - PROGRESS: at 86.14% examples, 632803 words/s, in_qsize 15, out_qsize 0\n",
            "2021-07-25 14:53:33,285 : INFO : EPOCH 1 - PROGRESS: at 87.73% examples, 632040 words/s, in_qsize 16, out_qsize 0\n",
            "2021-07-25 14:53:34,303 : INFO : EPOCH 1 - PROGRESS: at 89.29% examples, 630962 words/s, in_qsize 15, out_qsize 0\n",
            "2021-07-25 14:53:35,310 : INFO : EPOCH 1 - PROGRESS: at 91.03% examples, 631389 words/s, in_qsize 15, out_qsize 0\n",
            "2021-07-25 14:53:36,316 : INFO : EPOCH 1 - PROGRESS: at 92.79% examples, 631814 words/s, in_qsize 15, out_qsize 0\n",
            "2021-07-25 14:53:37,319 : INFO : EPOCH 1 - PROGRESS: at 94.53% examples, 632427 words/s, in_qsize 15, out_qsize 0\n",
            "2021-07-25 14:53:38,343 : INFO : EPOCH 1 - PROGRESS: at 96.25% examples, 632310 words/s, in_qsize 15, out_qsize 5\n",
            "2021-07-25 14:53:39,351 : INFO : EPOCH 1 - PROGRESS: at 98.17% examples, 633794 words/s, in_qsize 15, out_qsize 0\n",
            "2021-07-25 14:53:40,302 : INFO : worker thread finished; awaiting finish of 7 more threads\n",
            "2021-07-25 14:53:40,315 : INFO : worker thread finished; awaiting finish of 6 more threads\n",
            "2021-07-25 14:53:40,319 : INFO : worker thread finished; awaiting finish of 5 more threads\n",
            "2021-07-25 14:53:40,323 : INFO : worker thread finished; awaiting finish of 4 more threads\n",
            "2021-07-25 14:53:40,335 : INFO : worker thread finished; awaiting finish of 3 more threads\n",
            "2021-07-25 14:53:40,343 : INFO : worker thread finished; awaiting finish of 2 more threads\n",
            "2021-07-25 14:53:40,351 : INFO : worker thread finished; awaiting finish of 1 more threads\n",
            "2021-07-25 14:53:40,358 : INFO : EPOCH 1 - PROGRESS: at 100.00% examples, 634655 words/s, in_qsize 0, out_qsize 1\n",
            "2021-07-25 14:53:40,359 : INFO : worker thread finished; awaiting finish of 0 more threads\n",
            "2021-07-25 14:53:40,362 : INFO : EPOCH - 1 : training on 40884194 raw words (37583661 effective words) took 59.2s, 634613 effective words/s\n",
            "2021-07-25 14:53:41,373 : INFO : EPOCH 2 - PROGRESS: at 1.66% examples, 613670 words/s, in_qsize 15, out_qsize 0\n",
            "2021-07-25 14:53:42,392 : INFO : EPOCH 2 - PROGRESS: at 3.47% examples, 644159 words/s, in_qsize 15, out_qsize 0\n",
            "2021-07-25 14:53:43,403 : INFO : EPOCH 2 - PROGRESS: at 5.19% examples, 640396 words/s, in_qsize 15, out_qsize 0\n",
            "2021-07-25 14:53:44,445 : INFO : EPOCH 2 - PROGRESS: at 7.04% examples, 647374 words/s, in_qsize 16, out_qsize 0\n",
            "2021-07-25 14:53:45,471 : INFO : EPOCH 2 - PROGRESS: at 8.85% examples, 651465 words/s, in_qsize 15, out_qsize 0\n",
            "2021-07-25 14:53:46,475 : INFO : EPOCH 2 - PROGRESS: at 10.60% examples, 650948 words/s, in_qsize 15, out_qsize 0\n",
            "2021-07-25 14:53:47,480 : INFO : EPOCH 2 - PROGRESS: at 12.34% examples, 651596 words/s, in_qsize 15, out_qsize 0\n",
            "2021-07-25 14:53:48,496 : INFO : EPOCH 2 - PROGRESS: at 14.15% examples, 653521 words/s, in_qsize 15, out_qsize 0\n",
            "2021-07-25 14:53:49,521 : INFO : EPOCH 2 - PROGRESS: at 15.90% examples, 652285 words/s, in_qsize 13, out_qsize 2\n",
            "2021-07-25 14:53:50,538 : INFO : EPOCH 2 - PROGRESS: at 17.74% examples, 655420 words/s, in_qsize 15, out_qsize 0\n",
            "2021-07-25 14:53:51,570 : INFO : EPOCH 2 - PROGRESS: at 19.49% examples, 654434 words/s, in_qsize 15, out_qsize 1\n",
            "2021-07-25 14:53:52,592 : INFO : EPOCH 2 - PROGRESS: at 21.32% examples, 656064 words/s, in_qsize 15, out_qsize 0\n",
            "2021-07-25 14:53:53,655 : INFO : EPOCH 2 - PROGRESS: at 23.20% examples, 655974 words/s, in_qsize 15, out_qsize 0\n",
            "2021-07-25 14:53:54,677 : INFO : EPOCH 2 - PROGRESS: at 25.08% examples, 658320 words/s, in_qsize 15, out_qsize 0\n",
            "2021-07-25 14:53:55,755 : INFO : EPOCH 2 - PROGRESS: at 26.96% examples, 658529 words/s, in_qsize 16, out_qsize 4\n",
            "2021-07-25 14:53:56,757 : INFO : EPOCH 2 - PROGRESS: at 28.86% examples, 661858 words/s, in_qsize 16, out_qsize 0\n",
            "2021-07-25 14:53:57,765 : INFO : EPOCH 2 - PROGRESS: at 30.65% examples, 661984 words/s, in_qsize 15, out_qsize 0\n",
            "2021-07-25 14:53:58,776 : INFO : EPOCH 2 - PROGRESS: at 32.53% examples, 663918 words/s, in_qsize 15, out_qsize 0\n",
            "2021-07-25 14:53:59,848 : INFO : EPOCH 2 - PROGRESS: at 34.28% examples, 661655 words/s, in_qsize 15, out_qsize 5\n",
            "2021-07-25 14:54:00,854 : INFO : EPOCH 2 - PROGRESS: at 36.18% examples, 664006 words/s, in_qsize 14, out_qsize 1\n",
            "2021-07-25 14:54:01,867 : INFO : EPOCH 2 - PROGRESS: at 38.04% examples, 664628 words/s, in_qsize 15, out_qsize 0\n",
            "2021-07-25 14:54:02,882 : INFO : EPOCH 2 - PROGRESS: at 39.88% examples, 665547 words/s, in_qsize 15, out_qsize 0\n",
            "2021-07-25 14:54:03,908 : INFO : EPOCH 2 - PROGRESS: at 41.71% examples, 665727 words/s, in_qsize 15, out_qsize 3\n",
            "2021-07-25 14:54:04,915 : INFO : EPOCH 2 - PROGRESS: at 43.58% examples, 667118 words/s, in_qsize 16, out_qsize 1\n",
            "2021-07-25 14:54:05,947 : INFO : EPOCH 2 - PROGRESS: at 45.33% examples, 665654 words/s, in_qsize 16, out_qsize 3\n",
            "2021-07-25 14:54:06,947 : INFO : EPOCH 2 - PROGRESS: at 47.14% examples, 666430 words/s, in_qsize 15, out_qsize 0\n",
            "2021-07-25 14:54:07,994 : INFO : EPOCH 2 - PROGRESS: at 48.95% examples, 666267 words/s, in_qsize 15, out_qsize 6\n",
            "2021-07-25 14:54:08,991 : INFO : EPOCH 2 - PROGRESS: at 50.81% examples, 667108 words/s, in_qsize 15, out_qsize 0\n",
            "2021-07-25 14:54:09,993 : INFO : EPOCH 2 - PROGRESS: at 52.52% examples, 666473 words/s, in_qsize 14, out_qsize 1\n",
            "2021-07-25 14:54:10,997 : INFO : EPOCH 2 - PROGRESS: at 54.27% examples, 666132 words/s, in_qsize 10, out_qsize 5\n",
            "2021-07-25 14:54:12,011 : INFO : EPOCH 2 - PROGRESS: at 56.13% examples, 667052 words/s, in_qsize 13, out_qsize 2\n",
            "2021-07-25 14:54:13,014 : INFO : EPOCH 2 - PROGRESS: at 57.93% examples, 667327 words/s, in_qsize 15, out_qsize 0\n",
            "2021-07-25 14:54:14,058 : INFO : EPOCH 2 - PROGRESS: at 59.79% examples, 667325 words/s, in_qsize 16, out_qsize 7\n",
            "2021-07-25 14:54:15,089 : INFO : EPOCH 2 - PROGRESS: at 61.72% examples, 668326 words/s, in_qsize 15, out_qsize 0\n",
            "2021-07-25 14:54:16,090 : INFO : EPOCH 2 - PROGRESS: at 63.53% examples, 668793 words/s, in_qsize 16, out_qsize 0\n",
            "2021-07-25 14:54:17,112 : INFO : EPOCH 2 - PROGRESS: at 65.09% examples, 666112 words/s, in_qsize 15, out_qsize 1\n",
            "2021-07-25 14:54:18,127 : INFO : EPOCH 2 - PROGRESS: at 66.77% examples, 664687 words/s, in_qsize 14, out_qsize 4\n",
            "2021-07-25 14:54:19,130 : INFO : EPOCH 2 - PROGRESS: at 68.34% examples, 662635 words/s, in_qsize 14, out_qsize 1\n",
            "2021-07-25 14:54:20,171 : INFO : EPOCH 2 - PROGRESS: at 70.07% examples, 661626 words/s, in_qsize 15, out_qsize 0\n",
            "2021-07-25 14:54:21,172 : INFO : EPOCH 2 - PROGRESS: at 71.68% examples, 660196 words/s, in_qsize 15, out_qsize 0\n",
            "2021-07-25 14:54:22,184 : INFO : EPOCH 2 - PROGRESS: at 73.31% examples, 658919 words/s, in_qsize 16, out_qsize 0\n",
            "2021-07-25 14:54:23,225 : INFO : EPOCH 2 - PROGRESS: at 74.98% examples, 657638 words/s, in_qsize 15, out_qsize 0\n",
            "2021-07-25 14:54:24,238 : INFO : EPOCH 2 - PROGRESS: at 76.57% examples, 656219 words/s, in_qsize 15, out_qsize 0\n",
            "2021-07-25 14:54:25,286 : INFO : EPOCH 2 - PROGRESS: at 78.28% examples, 654936 words/s, in_qsize 15, out_qsize 0\n",
            "2021-07-25 14:54:26,333 : INFO : EPOCH 2 - PROGRESS: at 79.99% examples, 653963 words/s, in_qsize 16, out_qsize 0\n",
            "2021-07-25 14:54:27,335 : INFO : EPOCH 2 - PROGRESS: at 81.62% examples, 653040 words/s, in_qsize 16, out_qsize 0\n",
            "2021-07-25 14:54:28,355 : INFO : EPOCH 2 - PROGRESS: at 83.24% examples, 651752 words/s, in_qsize 10, out_qsize 5\n",
            "2021-07-25 14:54:29,360 : INFO : EPOCH 2 - PROGRESS: at 84.91% examples, 651088 words/s, in_qsize 15, out_qsize 0\n",
            "2021-07-25 14:54:30,397 : INFO : EPOCH 2 - PROGRESS: at 86.55% examples, 650037 words/s, in_qsize 14, out_qsize 1\n",
            "2021-07-25 14:54:31,399 : INFO : EPOCH 2 - PROGRESS: at 88.20% examples, 649294 words/s, in_qsize 15, out_qsize 0\n",
            "2021-07-25 14:54:32,407 : INFO : EPOCH 2 - PROGRESS: at 89.82% examples, 648509 words/s, in_qsize 15, out_qsize 0\n",
            "2021-07-25 14:54:33,428 : INFO : EPOCH 2 - PROGRESS: at 91.41% examples, 647423 words/s, in_qsize 16, out_qsize 0\n",
            "2021-07-25 14:54:34,430 : INFO : EPOCH 2 - PROGRESS: at 93.07% examples, 646925 words/s, in_qsize 16, out_qsize 0\n",
            "2021-07-25 14:54:35,436 : INFO : EPOCH 2 - PROGRESS: at 94.60% examples, 645729 words/s, in_qsize 15, out_qsize 0\n",
            "2021-07-25 14:54:36,453 : INFO : EPOCH 2 - PROGRESS: at 96.27% examples, 645128 words/s, in_qsize 14, out_qsize 1\n",
            "2021-07-25 14:54:37,453 : INFO : EPOCH 2 - PROGRESS: at 97.84% examples, 644108 words/s, in_qsize 15, out_qsize 0\n",
            "2021-07-25 14:54:38,484 : INFO : EPOCH 2 - PROGRESS: at 99.49% examples, 643375 words/s, in_qsize 14, out_qsize 1\n",
            "2021-07-25 14:54:38,696 : INFO : worker thread finished; awaiting finish of 7 more threads\n",
            "2021-07-25 14:54:38,711 : INFO : worker thread finished; awaiting finish of 6 more threads\n",
            "2021-07-25 14:54:38,722 : INFO : worker thread finished; awaiting finish of 5 more threads\n",
            "2021-07-25 14:54:38,736 : INFO : worker thread finished; awaiting finish of 4 more threads\n",
            "2021-07-25 14:54:38,745 : INFO : worker thread finished; awaiting finish of 3 more threads\n",
            "2021-07-25 14:54:38,749 : INFO : worker thread finished; awaiting finish of 2 more threads\n",
            "2021-07-25 14:54:38,760 : INFO : worker thread finished; awaiting finish of 1 more threads\n",
            "2021-07-25 14:54:38,762 : INFO : worker thread finished; awaiting finish of 0 more threads\n",
            "2021-07-25 14:54:38,763 : INFO : EPOCH - 2 : training on 40884194 raw words (37582366 effective words) took 58.4s, 643634 effective words/s\n",
            "2021-07-25 14:54:39,805 : INFO : EPOCH 3 - PROGRESS: at 1.60% examples, 580045 words/s, in_qsize 15, out_qsize 0\n",
            "2021-07-25 14:54:40,827 : INFO : EPOCH 3 - PROGRESS: at 3.19% examples, 581385 words/s, in_qsize 14, out_qsize 1\n",
            "2021-07-25 14:54:41,832 : INFO : EPOCH 3 - PROGRESS: at 4.89% examples, 599690 words/s, in_qsize 15, out_qsize 0\n",
            "2021-07-25 14:54:42,838 : INFO : EPOCH 3 - PROGRESS: at 6.70% examples, 617891 words/s, in_qsize 15, out_qsize 0\n",
            "2021-07-25 14:54:43,890 : INFO : EPOCH 3 - PROGRESS: at 8.38% examples, 614087 words/s, in_qsize 15, out_qsize 0\n",
            "2021-07-25 14:54:44,902 : INFO : EPOCH 3 - PROGRESS: at 10.13% examples, 620348 words/s, in_qsize 14, out_qsize 1\n",
            "2021-07-25 14:54:45,935 : INFO : EPOCH 3 - PROGRESS: at 11.91% examples, 624170 words/s, in_qsize 14, out_qsize 1\n",
            "2021-07-25 14:54:46,964 : INFO : EPOCH 3 - PROGRESS: at 13.70% examples, 628501 words/s, in_qsize 13, out_qsize 2\n",
            "2021-07-25 14:54:48,075 : INFO : EPOCH 3 - PROGRESS: at 15.53% examples, 629260 words/s, in_qsize 15, out_qsize 4\n",
            "2021-07-25 14:54:49,092 : INFO : EPOCH 3 - PROGRESS: at 17.40% examples, 633627 words/s, in_qsize 15, out_qsize 0\n",
            "2021-07-25 14:54:50,165 : INFO : EPOCH 3 - PROGRESS: at 19.20% examples, 633402 words/s, in_qsize 15, out_qsize 1\n",
            "2021-07-25 14:54:51,174 : INFO : EPOCH 3 - PROGRESS: at 20.92% examples, 634269 words/s, in_qsize 15, out_qsize 0\n",
            "2021-07-25 14:54:52,203 : INFO : EPOCH 3 - PROGRESS: at 22.68% examples, 634751 words/s, in_qsize 15, out_qsize 0\n",
            "2021-07-25 14:54:53,210 : INFO : EPOCH 3 - PROGRESS: at 24.36% examples, 634166 words/s, in_qsize 14, out_qsize 1\n",
            "2021-07-25 14:54:54,271 : INFO : EPOCH 3 - PROGRESS: at 26.20% examples, 635036 words/s, in_qsize 16, out_qsize 1\n",
            "2021-07-25 14:54:55,285 : INFO : EPOCH 3 - PROGRESS: at 27.92% examples, 635397 words/s, in_qsize 15, out_qsize 0\n",
            "2021-07-25 14:54:56,297 : INFO : EPOCH 3 - PROGRESS: at 29.63% examples, 635243 words/s, in_qsize 14, out_qsize 1\n",
            "2021-07-25 14:54:57,382 : INFO : EPOCH 3 - PROGRESS: at 31.52% examples, 636104 words/s, in_qsize 15, out_qsize 0\n",
            "2021-07-25 14:54:58,412 : INFO : EPOCH 3 - PROGRESS: at 33.27% examples, 636777 words/s, in_qsize 15, out_qsize 0\n",
            "2021-07-25 14:54:59,455 : INFO : EPOCH 3 - PROGRESS: at 35.03% examples, 636911 words/s, in_qsize 15, out_qsize 0\n",
            "2021-07-25 14:55:00,484 : INFO : EPOCH 3 - PROGRESS: at 36.75% examples, 636206 words/s, in_qsize 13, out_qsize 2\n",
            "2021-07-25 14:55:01,507 : INFO : EPOCH 3 - PROGRESS: at 38.53% examples, 636581 words/s, in_qsize 15, out_qsize 0\n",
            "2021-07-25 14:55:02,528 : INFO : EPOCH 3 - PROGRESS: at 40.24% examples, 636544 words/s, in_qsize 13, out_qsize 2\n",
            "2021-07-25 14:55:03,529 : INFO : EPOCH 3 - PROGRESS: at 42.06% examples, 638202 words/s, in_qsize 16, out_qsize 0\n",
            "2021-07-25 14:55:04,584 : INFO : EPOCH 3 - PROGRESS: at 43.73% examples, 636588 words/s, in_qsize 11, out_qsize 4\n",
            "2021-07-25 14:55:05,605 : INFO : EPOCH 3 - PROGRESS: at 45.54% examples, 637640 words/s, in_qsize 15, out_qsize 0\n",
            "2021-07-25 14:55:06,625 : INFO : EPOCH 3 - PROGRESS: at 47.24% examples, 637287 words/s, in_qsize 15, out_qsize 0\n",
            "2021-07-25 14:55:07,639 : INFO : EPOCH 3 - PROGRESS: at 48.95% examples, 637396 words/s, in_qsize 15, out_qsize 0\n",
            "2021-07-25 14:55:08,640 : INFO : EPOCH 3 - PROGRESS: at 50.69% examples, 637801 words/s, in_qsize 15, out_qsize 0\n",
            "2021-07-25 14:55:09,647 : INFO : EPOCH 3 - PROGRESS: at 52.35% examples, 637443 words/s, in_qsize 15, out_qsize 0\n",
            "2021-07-25 14:55:10,655 : INFO : EPOCH 3 - PROGRESS: at 54.03% examples, 637096 words/s, in_qsize 15, out_qsize 0\n",
            "2021-07-25 14:55:11,662 : INFO : EPOCH 3 - PROGRESS: at 55.72% examples, 637038 words/s, in_qsize 15, out_qsize 0\n",
            "2021-07-25 14:55:12,664 : INFO : EPOCH 3 - PROGRESS: at 57.34% examples, 636332 words/s, in_qsize 12, out_qsize 3\n",
            "2021-07-25 14:55:13,666 : INFO : EPOCH 3 - PROGRESS: at 59.08% examples, 636687 words/s, in_qsize 14, out_qsize 1\n",
            "2021-07-25 14:55:14,724 : INFO : EPOCH 3 - PROGRESS: at 60.80% examples, 635784 words/s, in_qsize 16, out_qsize 1\n",
            "2021-07-25 14:55:15,749 : INFO : EPOCH 3 - PROGRESS: at 62.46% examples, 635492 words/s, in_qsize 16, out_qsize 5\n",
            "2021-07-25 14:55:16,734 : INFO : EPOCH 3 - PROGRESS: at 64.20% examples, 635844 words/s, in_qsize 14, out_qsize 0\n",
            "2021-07-25 14:55:17,739 : INFO : EPOCH 3 - PROGRESS: at 65.79% examples, 634728 words/s, in_qsize 14, out_qsize 4\n",
            "2021-07-25 14:55:18,795 : INFO : EPOCH 3 - PROGRESS: at 67.60% examples, 634679 words/s, in_qsize 15, out_qsize 0\n",
            "2021-07-25 14:55:19,840 : INFO : EPOCH 3 - PROGRESS: at 69.44% examples, 635474 words/s, in_qsize 16, out_qsize 0\n",
            "2021-07-25 14:55:20,847 : INFO : EPOCH 3 - PROGRESS: at 71.12% examples, 635259 words/s, in_qsize 15, out_qsize 0\n",
            "2021-07-25 14:55:21,882 : INFO : EPOCH 3 - PROGRESS: at 72.77% examples, 634569 words/s, in_qsize 15, out_qsize 1\n",
            "2021-07-25 14:55:22,894 : INFO : EPOCH 3 - PROGRESS: at 74.41% examples, 634038 words/s, in_qsize 14, out_qsize 1\n",
            "2021-07-25 14:55:23,931 : INFO : EPOCH 3 - PROGRESS: at 75.96% examples, 632433 words/s, in_qsize 15, out_qsize 0\n",
            "2021-07-25 14:55:24,954 : INFO : EPOCH 3 - PROGRESS: at 77.66% examples, 632072 words/s, in_qsize 15, out_qsize 0\n",
            "2021-07-25 14:55:25,966 : INFO : EPOCH 3 - PROGRESS: at 79.13% examples, 630169 words/s, in_qsize 15, out_qsize 1\n",
            "2021-07-25 14:55:27,013 : INFO : EPOCH 3 - PROGRESS: at 80.80% examples, 629372 words/s, in_qsize 15, out_qsize 0\n",
            "2021-07-25 14:55:28,032 : INFO : EPOCH 3 - PROGRESS: at 82.38% examples, 628425 words/s, in_qsize 16, out_qsize 0\n",
            "2021-07-25 14:55:29,054 : INFO : EPOCH 3 - PROGRESS: at 83.95% examples, 627280 words/s, in_qsize 14, out_qsize 1\n",
            "2021-07-25 14:55:30,080 : INFO : EPOCH 3 - PROGRESS: at 85.55% examples, 626538 words/s, in_qsize 15, out_qsize 0\n",
            "2021-07-25 14:55:31,103 : INFO : EPOCH 3 - PROGRESS: at 87.21% examples, 626168 words/s, in_qsize 15, out_qsize 0\n",
            "2021-07-25 14:55:32,111 : INFO : EPOCH 3 - PROGRESS: at 88.76% examples, 625163 words/s, in_qsize 16, out_qsize 0\n",
            "2021-07-25 14:55:33,112 : INFO : EPOCH 3 - PROGRESS: at 90.35% examples, 624758 words/s, in_qsize 15, out_qsize 0\n",
            "2021-07-25 14:55:34,157 : INFO : EPOCH 3 - PROGRESS: at 92.03% examples, 624367 words/s, in_qsize 14, out_qsize 1\n",
            "2021-07-25 14:55:35,174 : INFO : EPOCH 3 - PROGRESS: at 93.60% examples, 623651 words/s, in_qsize 14, out_qsize 1\n",
            "2021-07-25 14:55:36,202 : INFO : EPOCH 3 - PROGRESS: at 95.17% examples, 622833 words/s, in_qsize 9, out_qsize 6\n",
            "2021-07-25 14:55:37,257 : INFO : EPOCH 3 - PROGRESS: at 96.87% examples, 622414 words/s, in_qsize 15, out_qsize 0\n",
            "2021-07-25 14:55:38,263 : INFO : EPOCH 3 - PROGRESS: at 98.44% examples, 621896 words/s, in_qsize 14, out_qsize 1\n",
            "2021-07-25 14:55:39,137 : INFO : worker thread finished; awaiting finish of 7 more threads\n",
            "2021-07-25 14:55:39,139 : INFO : worker thread finished; awaiting finish of 6 more threads\n",
            "2021-07-25 14:55:39,143 : INFO : worker thread finished; awaiting finish of 5 more threads\n",
            "2021-07-25 14:55:39,144 : INFO : worker thread finished; awaiting finish of 4 more threads\n",
            "2021-07-25 14:55:39,146 : INFO : worker thread finished; awaiting finish of 3 more threads\n",
            "2021-07-25 14:55:39,174 : INFO : worker thread finished; awaiting finish of 2 more threads\n",
            "2021-07-25 14:55:39,193 : INFO : worker thread finished; awaiting finish of 1 more threads\n",
            "2021-07-25 14:55:39,194 : INFO : worker thread finished; awaiting finish of 0 more threads\n",
            "2021-07-25 14:55:39,195 : INFO : EPOCH - 3 : training on 40884194 raw words (37581072 effective words) took 60.4s, 622024 effective words/s\n",
            "2021-07-25 14:55:40,224 : INFO : EPOCH 4 - PROGRESS: at 1.53% examples, 561008 words/s, in_qsize 15, out_qsize 0\n",
            "2021-07-25 14:55:41,238 : INFO : EPOCH 4 - PROGRESS: at 3.07% examples, 564953 words/s, in_qsize 14, out_qsize 1\n",
            "2021-07-25 14:55:42,254 : INFO : EPOCH 4 - PROGRESS: at 4.69% examples, 577573 words/s, in_qsize 15, out_qsize 0\n",
            "2021-07-25 14:55:43,255 : INFO : EPOCH 4 - PROGRESS: at 6.33% examples, 586359 words/s, in_qsize 14, out_qsize 1\n",
            "2021-07-25 14:55:44,286 : INFO : EPOCH 4 - PROGRESS: at 7.87% examples, 582363 words/s, in_qsize 15, out_qsize 2\n",
            "2021-07-25 14:55:45,299 : INFO : EPOCH 4 - PROGRESS: at 9.48% examples, 584822 words/s, in_qsize 15, out_qsize 0\n",
            "2021-07-25 14:55:46,357 : INFO : EPOCH 4 - PROGRESS: at 11.21% examples, 587911 words/s, in_qsize 15, out_qsize 0\n",
            "2021-07-25 14:55:47,359 : INFO : EPOCH 4 - PROGRESS: at 12.91% examples, 595433 words/s, in_qsize 15, out_qsize 0\n",
            "2021-07-25 14:55:48,360 : INFO : EPOCH 4 - PROGRESS: at 14.65% examples, 601371 words/s, in_qsize 15, out_qsize 0\n",
            "2021-07-25 14:55:49,384 : INFO : EPOCH 4 - PROGRESS: at 16.43% examples, 606441 words/s, in_qsize 10, out_qsize 5\n",
            "2021-07-25 14:55:50,387 : INFO : EPOCH 4 - PROGRESS: at 18.19% examples, 611792 words/s, in_qsize 13, out_qsize 2\n",
            "2021-07-25 14:55:51,406 : INFO : EPOCH 4 - PROGRESS: at 20.09% examples, 619160 words/s, in_qsize 15, out_qsize 0\n",
            "2021-07-25 14:55:52,419 : INFO : EPOCH 4 - PROGRESS: at 21.76% examples, 619502 words/s, in_qsize 15, out_qsize 1\n",
            "2021-07-25 14:55:53,481 : INFO : EPOCH 4 - PROGRESS: at 23.63% examples, 622064 words/s, in_qsize 13, out_qsize 2\n",
            "2021-07-25 14:55:54,483 : INFO : EPOCH 4 - PROGRESS: at 25.37% examples, 623835 words/s, in_qsize 15, out_qsize 0\n",
            "2021-07-25 14:55:55,542 : INFO : EPOCH 4 - PROGRESS: at 27.15% examples, 624789 words/s, in_qsize 14, out_qsize 1\n",
            "2021-07-25 14:55:56,580 : INFO : EPOCH 4 - PROGRESS: at 28.99% examples, 626996 words/s, in_qsize 15, out_qsize 0\n",
            "2021-07-25 14:55:57,635 : INFO : EPOCH 4 - PROGRESS: at 30.80% examples, 627862 words/s, in_qsize 15, out_qsize 0\n",
            "2021-07-25 14:55:58,643 : INFO : EPOCH 4 - PROGRESS: at 32.60% examples, 630317 words/s, in_qsize 16, out_qsize 2\n",
            "2021-07-25 14:55:59,643 : INFO : EPOCH 4 - PROGRESS: at 34.28% examples, 630667 words/s, in_qsize 16, out_qsize 0\n",
            "2021-07-25 14:56:00,643 : INFO : EPOCH 4 - PROGRESS: at 36.06% examples, 632421 words/s, in_qsize 15, out_qsize 0\n",
            "2021-07-25 14:56:01,674 : INFO : EPOCH 4 - PROGRESS: at 37.84% examples, 632701 words/s, in_qsize 15, out_qsize 0\n",
            "2021-07-25 14:56:02,718 : INFO : EPOCH 4 - PROGRESS: at 39.59% examples, 632613 words/s, in_qsize 14, out_qsize 1\n",
            "2021-07-25 14:56:03,731 : INFO : EPOCH 4 - PROGRESS: at 41.42% examples, 634511 words/s, in_qsize 15, out_qsize 0\n",
            "2021-07-25 14:56:04,742 : INFO : EPOCH 4 - PROGRESS: at 43.10% examples, 634292 words/s, in_qsize 14, out_qsize 5\n",
            "2021-07-25 14:56:05,752 : INFO : EPOCH 4 - PROGRESS: at 44.83% examples, 634508 words/s, in_qsize 14, out_qsize 2\n",
            "2021-07-25 14:56:06,762 : INFO : EPOCH 4 - PROGRESS: at 46.61% examples, 635508 words/s, in_qsize 15, out_qsize 0\n",
            "2021-07-25 14:56:07,768 : INFO : EPOCH 4 - PROGRESS: at 48.12% examples, 632982 words/s, in_qsize 16, out_qsize 1\n",
            "2021-07-25 14:56:08,777 : INFO : EPOCH 4 - PROGRESS: at 49.79% examples, 633062 words/s, in_qsize 15, out_qsize 0\n",
            "2021-07-25 14:56:09,787 : INFO : EPOCH 4 - PROGRESS: at 51.49% examples, 632789 words/s, in_qsize 16, out_qsize 1\n",
            "2021-07-25 14:56:10,812 : INFO : EPOCH 4 - PROGRESS: at 53.17% examples, 632532 words/s, in_qsize 15, out_qsize 0\n",
            "2021-07-25 14:56:11,816 : INFO : EPOCH 4 - PROGRESS: at 54.90% examples, 632979 words/s, in_qsize 15, out_qsize 0\n",
            "2021-07-25 14:56:12,839 : INFO : EPOCH 4 - PROGRESS: at 56.51% examples, 631963 words/s, in_qsize 13, out_qsize 2\n",
            "2021-07-25 14:56:13,853 : INFO : EPOCH 4 - PROGRESS: at 58.17% examples, 631449 words/s, in_qsize 16, out_qsize 0\n",
            "2021-07-25 14:56:14,887 : INFO : EPOCH 4 - PROGRESS: at 59.79% examples, 630097 words/s, in_qsize 15, out_qsize 0\n",
            "2021-07-25 14:56:15,931 : INFO : EPOCH 4 - PROGRESS: at 61.48% examples, 629388 words/s, in_qsize 15, out_qsize 0\n",
            "2021-07-25 14:56:16,954 : INFO : EPOCH 4 - PROGRESS: at 63.24% examples, 629992 words/s, in_qsize 15, out_qsize 0\n",
            "2021-07-25 14:56:17,961 : INFO : EPOCH 4 - PROGRESS: at 64.83% examples, 628977 words/s, in_qsize 16, out_qsize 1\n",
            "2021-07-25 14:56:18,962 : INFO : EPOCH 4 - PROGRESS: at 66.64% examples, 629952 words/s, in_qsize 15, out_qsize 0\n",
            "2021-07-25 14:56:19,965 : INFO : EPOCH 4 - PROGRESS: at 68.32% examples, 629971 words/s, in_qsize 15, out_qsize 0\n",
            "2021-07-25 14:56:20,979 : INFO : EPOCH 4 - PROGRESS: at 69.93% examples, 629143 words/s, in_qsize 15, out_qsize 0\n",
            "2021-07-25 14:56:21,996 : INFO : EPOCH 4 - PROGRESS: at 71.49% examples, 627870 words/s, in_qsize 15, out_qsize 2\n",
            "2021-07-25 14:56:23,005 : INFO : EPOCH 4 - PROGRESS: at 73.11% examples, 627454 words/s, in_qsize 16, out_qsize 5\n",
            "2021-07-25 14:56:24,014 : INFO : EPOCH 4 - PROGRESS: at 74.88% examples, 628229 words/s, in_qsize 15, out_qsize 0\n",
            "2021-07-25 14:56:25,021 : INFO : EPOCH 4 - PROGRESS: at 76.55% examples, 628201 words/s, in_qsize 15, out_qsize 0\n",
            "2021-07-25 14:56:26,077 : INFO : EPOCH 4 - PROGRESS: at 78.26% examples, 627491 words/s, in_qsize 12, out_qsize 3\n",
            "2021-07-25 14:56:27,088 : INFO : EPOCH 4 - PROGRESS: at 80.01% examples, 628011 words/s, in_qsize 16, out_qsize 3\n",
            "2021-07-25 14:56:28,098 : INFO : EPOCH 4 - PROGRESS: at 81.72% examples, 628128 words/s, in_qsize 16, out_qsize 0\n",
            "2021-07-25 14:56:29,141 : INFO : EPOCH 4 - PROGRESS: at 83.30% examples, 626723 words/s, in_qsize 16, out_qsize 1\n",
            "2021-07-25 14:56:30,174 : INFO : EPOCH 4 - PROGRESS: at 84.88% examples, 625705 words/s, in_qsize 15, out_qsize 0\n",
            "2021-07-25 14:56:31,179 : INFO : EPOCH 4 - PROGRESS: at 86.47% examples, 625229 words/s, in_qsize 15, out_qsize 0\n",
            "2021-07-25 14:56:32,200 : INFO : EPOCH 4 - PROGRESS: at 88.02% examples, 624069 words/s, in_qsize 14, out_qsize 1\n",
            "2021-07-25 14:56:33,215 : INFO : EPOCH 4 - PROGRESS: at 89.55% examples, 623026 words/s, in_qsize 16, out_qsize 0\n",
            "2021-07-25 14:56:34,231 : INFO : EPOCH 4 - PROGRESS: at 91.08% examples, 622007 words/s, in_qsize 16, out_qsize 1\n",
            "2021-07-25 14:56:35,258 : INFO : EPOCH 4 - PROGRESS: at 92.54% examples, 620671 words/s, in_qsize 15, out_qsize 4\n",
            "2021-07-25 14:56:36,243 : INFO : EPOCH 4 - PROGRESS: at 94.03% examples, 619621 words/s, in_qsize 12, out_qsize 3\n",
            "2021-07-25 14:56:37,247 : INFO : EPOCH 4 - PROGRESS: at 95.61% examples, 619144 words/s, in_qsize 15, out_qsize 0\n",
            "2021-07-25 14:56:38,264 : INFO : EPOCH 4 - PROGRESS: at 97.18% examples, 618424 words/s, in_qsize 14, out_qsize 1\n",
            "2021-07-25 14:56:39,289 : INFO : EPOCH 4 - PROGRESS: at 98.76% examples, 617772 words/s, in_qsize 15, out_qsize 0\n",
            "2021-07-25 14:56:39,936 : INFO : worker thread finished; awaiting finish of 7 more threads\n",
            "2021-07-25 14:56:39,950 : INFO : worker thread finished; awaiting finish of 6 more threads\n",
            "2021-07-25 14:56:39,975 : INFO : worker thread finished; awaiting finish of 5 more threads\n",
            "2021-07-25 14:56:40,001 : INFO : worker thread finished; awaiting finish of 4 more threads\n",
            "2021-07-25 14:56:40,006 : INFO : worker thread finished; awaiting finish of 3 more threads\n",
            "2021-07-25 14:56:40,014 : INFO : worker thread finished; awaiting finish of 2 more threads\n",
            "2021-07-25 14:56:40,030 : INFO : worker thread finished; awaiting finish of 1 more threads\n",
            "2021-07-25 14:56:40,045 : INFO : worker thread finished; awaiting finish of 0 more threads\n",
            "2021-07-25 14:56:40,047 : INFO : EPOCH - 4 : training on 40884194 raw words (37584212 effective words) took 60.8s, 617790 effective words/s\n",
            "2021-07-25 14:56:41,128 : INFO : EPOCH 5 - PROGRESS: at 1.51% examples, 523463 words/s, in_qsize 16, out_qsize 1\n",
            "2021-07-25 14:56:42,180 : INFO : EPOCH 5 - PROGRESS: at 3.14% examples, 552832 words/s, in_qsize 15, out_qsize 0\n",
            "2021-07-25 14:56:43,193 : INFO : EPOCH 5 - PROGRESS: at 4.69% examples, 560962 words/s, in_qsize 12, out_qsize 3\n",
            "2021-07-25 14:56:44,239 : INFO : EPOCH 5 - PROGRESS: at 6.33% examples, 567296 words/s, in_qsize 15, out_qsize 0\n",
            "2021-07-25 14:56:45,245 : INFO : EPOCH 5 - PROGRESS: at 7.89% examples, 570321 words/s, in_qsize 15, out_qsize 0\n",
            "2021-07-25 14:56:46,260 : INFO : EPOCH 5 - PROGRESS: at 9.46% examples, 572808 words/s, in_qsize 15, out_qsize 0\n",
            "2021-07-25 14:56:47,293 : INFO : EPOCH 5 - PROGRESS: at 11.04% examples, 573144 words/s, in_qsize 14, out_qsize 2\n",
            "2021-07-25 14:56:48,320 : INFO : EPOCH 5 - PROGRESS: at 12.63% examples, 574073 words/s, in_qsize 16, out_qsize 0\n",
            "2021-07-25 14:56:49,322 : INFO : EPOCH 5 - PROGRESS: at 14.22% examples, 576206 words/s, in_qsize 15, out_qsize 0\n",
            "2021-07-25 14:56:50,333 : INFO : EPOCH 5 - PROGRESS: at 15.70% examples, 573752 words/s, in_qsize 14, out_qsize 1\n",
            "2021-07-25 14:56:51,352 : INFO : EPOCH 5 - PROGRESS: at 17.24% examples, 573036 words/s, in_qsize 15, out_qsize 0\n",
            "2021-07-25 14:56:52,415 : INFO : EPOCH 5 - PROGRESS: at 18.86% examples, 573337 words/s, in_qsize 14, out_qsize 1\n",
            "2021-07-25 14:56:53,425 : INFO : EPOCH 5 - PROGRESS: at 20.50% examples, 576586 words/s, in_qsize 15, out_qsize 0\n",
            "2021-07-25 14:56:54,447 : INFO : EPOCH 5 - PROGRESS: at 22.18% examples, 579534 words/s, in_qsize 16, out_qsize 1\n",
            "2021-07-25 14:56:55,452 : INFO : EPOCH 5 - PROGRESS: at 23.80% examples, 580879 words/s, in_qsize 16, out_qsize 0\n",
            "2021-07-25 14:56:56,455 : INFO : EPOCH 5 - PROGRESS: at 25.49% examples, 583896 words/s, in_qsize 15, out_qsize 0\n",
            "2021-07-25 14:56:57,497 : INFO : EPOCH 5 - PROGRESS: at 27.10% examples, 584137 words/s, in_qsize 15, out_qsize 0\n",
            "2021-07-25 14:56:58,506 : INFO : EPOCH 5 - PROGRESS: at 28.91% examples, 588896 words/s, in_qsize 15, out_qsize 0\n",
            "2021-07-25 14:56:59,514 : INFO : EPOCH 5 - PROGRESS: at 30.60% examples, 590899 words/s, in_qsize 15, out_qsize 0\n",
            "2021-07-25 14:57:00,535 : INFO : EPOCH 5 - PROGRESS: at 32.37% examples, 593662 words/s, in_qsize 16, out_qsize 0\n",
            "2021-07-25 14:57:01,584 : INFO : EPOCH 5 - PROGRESS: at 34.01% examples, 594073 words/s, in_qsize 15, out_qsize 0\n",
            "2021-07-25 14:57:02,614 : INFO : EPOCH 5 - PROGRESS: at 35.68% examples, 595261 words/s, in_qsize 16, out_qsize 4\n",
            "2021-07-25 14:57:03,605 : INFO : EPOCH 5 - PROGRESS: at 37.48% examples, 597854 words/s, in_qsize 15, out_qsize 0\n",
            "2021-07-25 14:57:04,623 : INFO : EPOCH 5 - PROGRESS: at 39.18% examples, 599150 words/s, in_qsize 14, out_qsize 1\n",
            "2021-07-25 14:57:05,633 : INFO : EPOCH 5 - PROGRESS: at 41.01% examples, 602334 words/s, in_qsize 15, out_qsize 0\n",
            "2021-07-25 14:57:06,650 : INFO : EPOCH 5 - PROGRESS: at 42.76% examples, 604115 words/s, in_qsize 15, out_qsize 0\n",
            "2021-07-25 14:57:07,695 : INFO : EPOCH 5 - PROGRESS: at 44.50% examples, 604812 words/s, in_qsize 15, out_qsize 0\n",
            "2021-07-25 14:57:08,729 : INFO : EPOCH 5 - PROGRESS: at 46.17% examples, 605036 words/s, in_qsize 13, out_qsize 2\n",
            "2021-07-25 14:57:09,794 : INFO : EPOCH 5 - PROGRESS: at 48.03% examples, 607082 words/s, in_qsize 16, out_qsize 0\n",
            "2021-07-25 14:57:10,792 : INFO : EPOCH 5 - PROGRESS: at 49.74% examples, 608509 words/s, in_qsize 16, out_qsize 0\n",
            "2021-07-25 14:57:11,848 : INFO : EPOCH 5 - PROGRESS: at 51.46% examples, 608437 words/s, in_qsize 14, out_qsize 1\n",
            "2021-07-25 14:57:12,872 : INFO : EPOCH 5 - PROGRESS: at 53.13% examples, 608701 words/s, in_qsize 15, out_qsize 0\n",
            "2021-07-25 14:57:13,913 : INFO : EPOCH 5 - PROGRESS: at 54.78% examples, 608338 words/s, in_qsize 13, out_qsize 2\n",
            "2021-07-25 14:57:14,915 : INFO : EPOCH 5 - PROGRESS: at 56.54% examples, 610020 words/s, in_qsize 16, out_qsize 0\n",
            "2021-07-25 14:57:15,954 : INFO : EPOCH 5 - PROGRESS: at 58.13% examples, 608957 words/s, in_qsize 15, out_qsize 0\n",
            "2021-07-25 14:57:16,998 : INFO : EPOCH 5 - PROGRESS: at 59.91% examples, 609856 words/s, in_qsize 15, out_qsize 0\n",
            "2021-07-25 14:57:18,008 : INFO : EPOCH 5 - PROGRESS: at 61.79% examples, 612199 words/s, in_qsize 15, out_qsize 0\n",
            "2021-07-25 14:57:19,015 : INFO : EPOCH 5 - PROGRESS: at 63.48% examples, 612791 words/s, in_qsize 15, out_qsize 0\n",
            "2021-07-25 14:57:20,018 : INFO : EPOCH 5 - PROGRESS: at 65.27% examples, 614124 words/s, in_qsize 14, out_qsize 1\n",
            "2021-07-25 14:57:21,020 : INFO : EPOCH 5 - PROGRESS: at 66.98% examples, 614523 words/s, in_qsize 14, out_qsize 1\n",
            "2021-07-25 14:57:22,028 : INFO : EPOCH 5 - PROGRESS: at 68.67% examples, 615052 words/s, in_qsize 14, out_qsize 1\n",
            "2021-07-25 14:57:23,028 : INFO : EPOCH 5 - PROGRESS: at 70.49% examples, 616502 words/s, in_qsize 15, out_qsize 0\n",
            "2021-07-25 14:57:24,081 : INFO : EPOCH 5 - PROGRESS: at 72.24% examples, 616723 words/s, in_qsize 16, out_qsize 0\n",
            "2021-07-25 14:57:25,099 : INFO : EPOCH 5 - PROGRESS: at 74.00% examples, 617646 words/s, in_qsize 12, out_qsize 3\n",
            "2021-07-25 14:57:26,130 : INFO : EPOCH 5 - PROGRESS: at 75.80% examples, 618502 words/s, in_qsize 16, out_qsize 0\n",
            "2021-07-25 14:57:27,131 : INFO : EPOCH 5 - PROGRESS: at 77.66% examples, 620121 words/s, in_qsize 15, out_qsize 0\n",
            "2021-07-25 14:57:28,164 : INFO : EPOCH 5 - PROGRESS: at 79.43% examples, 620497 words/s, in_qsize 14, out_qsize 1\n",
            "2021-07-25 14:57:29,177 : INFO : EPOCH 5 - PROGRESS: at 81.25% examples, 621653 words/s, in_qsize 15, out_qsize 0\n",
            "2021-07-25 14:57:30,181 : INFO : EPOCH 5 - PROGRESS: at 83.10% examples, 622895 words/s, in_qsize 14, out_qsize 1\n",
            "2021-07-25 14:57:31,199 : INFO : EPOCH 5 - PROGRESS: at 84.88% examples, 623556 words/s, in_qsize 15, out_qsize 0\n",
            "2021-07-25 14:57:32,207 : INFO : EPOCH 5 - PROGRESS: at 86.77% examples, 625212 words/s, in_qsize 16, out_qsize 0\n",
            "2021-07-25 14:57:33,223 : INFO : EPOCH 5 - PROGRESS: at 88.48% examples, 625321 words/s, in_qsize 15, out_qsize 0\n",
            "2021-07-25 14:57:34,262 : INFO : EPOCH 5 - PROGRESS: at 90.30% examples, 625990 words/s, in_qsize 15, out_qsize 0\n",
            "2021-07-25 14:57:35,277 : INFO : EPOCH 5 - PROGRESS: at 92.00% examples, 626088 words/s, in_qsize 15, out_qsize 0\n",
            "2021-07-25 14:57:36,310 : INFO : EPOCH 5 - PROGRESS: at 93.60% examples, 625321 words/s, in_qsize 13, out_qsize 2\n",
            "2021-07-25 14:57:37,417 : INFO : EPOCH 5 - PROGRESS: at 95.37% examples, 624885 words/s, in_qsize 12, out_qsize 3\n",
            "2021-07-25 14:57:38,494 : INFO : EPOCH 5 - PROGRESS: at 97.13% examples, 624667 words/s, in_qsize 14, out_qsize 1\n",
            "2021-07-25 14:57:39,520 : INFO : EPOCH 5 - PROGRESS: at 98.81% examples, 624510 words/s, in_qsize 16, out_qsize 0\n",
            "2021-07-25 14:57:40,128 : INFO : worker thread finished; awaiting finish of 7 more threads\n",
            "2021-07-25 14:57:40,130 : INFO : worker thread finished; awaiting finish of 6 more threads\n",
            "2021-07-25 14:57:40,135 : INFO : worker thread finished; awaiting finish of 5 more threads\n",
            "2021-07-25 14:57:40,167 : INFO : worker thread finished; awaiting finish of 4 more threads\n",
            "2021-07-25 14:57:40,172 : INFO : worker thread finished; awaiting finish of 3 more threads\n",
            "2021-07-25 14:57:40,190 : INFO : worker thread finished; awaiting finish of 2 more threads\n",
            "2021-07-25 14:57:40,203 : INFO : worker thread finished; awaiting finish of 1 more threads\n",
            "2021-07-25 14:57:40,210 : INFO : worker thread finished; awaiting finish of 0 more threads\n",
            "2021-07-25 14:57:40,210 : INFO : EPOCH - 5 : training on 40884194 raw words (37584480 effective words) took 60.2s, 624833 effective words/s\n",
            "2021-07-25 14:57:41,232 : INFO : EPOCH 6 - PROGRESS: at 1.48% examples, 545735 words/s, in_qsize 14, out_qsize 1\n",
            "2021-07-25 14:57:42,239 : INFO : EPOCH 6 - PROGRESS: at 3.19% examples, 590857 words/s, in_qsize 15, out_qsize 0\n",
            "2021-07-25 14:57:43,247 : INFO : EPOCH 6 - PROGRESS: at 4.79% examples, 593534 words/s, in_qsize 15, out_qsize 0\n",
            "2021-07-25 14:57:44,278 : INFO : EPOCH 6 - PROGRESS: at 6.38% examples, 589329 words/s, in_qsize 15, out_qsize 0\n",
            "2021-07-25 14:57:45,301 : INFO : EPOCH 6 - PROGRESS: at 7.92% examples, 584176 words/s, in_qsize 12, out_qsize 3\n",
            "2021-07-25 14:57:46,307 : INFO : EPOCH 6 - PROGRESS: at 9.54% examples, 588353 words/s, in_qsize 15, out_qsize 0\n",
            "2021-07-25 14:57:47,417 : INFO : EPOCH 6 - PROGRESS: at 11.14% examples, 580235 words/s, in_qsize 14, out_qsize 1\n",
            "2021-07-25 14:57:48,471 : INFO : EPOCH 6 - PROGRESS: at 12.78% examples, 581654 words/s, in_qsize 14, out_qsize 1\n",
            "2021-07-25 14:57:49,532 : INFO : EPOCH 6 - PROGRESS: at 14.41% examples, 581305 words/s, in_qsize 15, out_qsize 0\n",
            "2021-07-25 14:57:50,586 : INFO : EPOCH 6 - PROGRESS: at 15.92% examples, 577618 words/s, in_qsize 16, out_qsize 5\n",
            "2021-07-25 14:57:51,578 : INFO : EPOCH 6 - PROGRESS: at 17.48% examples, 578010 words/s, in_qsize 16, out_qsize 1\n",
            "2021-07-25 14:57:52,582 : INFO : EPOCH 6 - PROGRESS: at 19.08% examples, 579887 words/s, in_qsize 15, out_qsize 0\n",
            "2021-07-25 14:57:53,587 : INFO : EPOCH 6 - PROGRESS: at 20.55% examples, 578054 words/s, in_qsize 15, out_qsize 0\n",
            "2021-07-25 14:57:54,627 : INFO : EPOCH 6 - PROGRESS: at 22.13% examples, 577637 words/s, in_qsize 15, out_qsize 0\n",
            "2021-07-25 14:57:55,675 : INFO : EPOCH 6 - PROGRESS: at 23.70% examples, 576320 words/s, in_qsize 14, out_qsize 3\n",
            "2021-07-25 14:57:56,695 : INFO : EPOCH 6 - PROGRESS: at 25.35% examples, 577902 words/s, in_qsize 15, out_qsize 0\n",
            "2021-07-25 14:57:57,702 : INFO : EPOCH 6 - PROGRESS: at 26.96% examples, 579626 words/s, in_qsize 15, out_qsize 0\n",
            "2021-07-25 14:57:58,736 : INFO : EPOCH 6 - PROGRESS: at 28.53% examples, 578930 words/s, in_qsize 15, out_qsize 0\n",
            "2021-07-25 14:57:59,739 : INFO : EPOCH 6 - PROGRESS: at 30.21% examples, 581548 words/s, in_qsize 15, out_qsize 0\n",
            "2021-07-25 14:58:00,749 : INFO : EPOCH 6 - PROGRESS: at 31.82% examples, 581946 words/s, in_qsize 15, out_qsize 0\n",
            "2021-07-25 14:58:01,772 : INFO : EPOCH 6 - PROGRESS: at 33.32% examples, 581113 words/s, in_qsize 15, out_qsize 0\n",
            "2021-07-25 14:58:02,820 : INFO : EPOCH 6 - PROGRESS: at 35.04% examples, 582885 words/s, in_qsize 15, out_qsize 0\n",
            "2021-07-25 14:58:03,826 : INFO : EPOCH 6 - PROGRESS: at 36.78% examples, 585531 words/s, in_qsize 14, out_qsize 1\n",
            "2021-07-25 14:58:04,838 : INFO : EPOCH 6 - PROGRESS: at 38.55% examples, 588233 words/s, in_qsize 15, out_qsize 0\n",
            "2021-07-25 14:58:05,916 : INFO : EPOCH 6 - PROGRESS: at 40.37% examples, 590256 words/s, in_qsize 15, out_qsize 0\n",
            "2021-07-25 14:58:06,922 : INFO : EPOCH 6 - PROGRESS: at 42.13% examples, 592729 words/s, in_qsize 16, out_qsize 2\n",
            "2021-07-25 14:58:07,978 : INFO : EPOCH 6 - PROGRESS: at 43.80% examples, 592924 words/s, in_qsize 15, out_qsize 2\n",
            "2021-07-25 14:58:08,986 : INFO : EPOCH 6 - PROGRESS: at 45.42% examples, 593187 words/s, in_qsize 16, out_qsize 3\n",
            "2021-07-25 14:58:09,999 : INFO : EPOCH 6 - PROGRESS: at 47.04% examples, 593595 words/s, in_qsize 15, out_qsize 0\n",
            "2021-07-25 14:58:11,018 : INFO : EPOCH 6 - PROGRESS: at 48.64% examples, 593532 words/s, in_qsize 16, out_qsize 0\n",
            "2021-07-25 14:58:12,024 : INFO : EPOCH 6 - PROGRESS: at 50.18% examples, 593191 words/s, in_qsize 14, out_qsize 1\n",
            "2021-07-25 14:58:13,025 : INFO : EPOCH 6 - PROGRESS: at 51.80% examples, 593479 words/s, in_qsize 16, out_qsize 1\n",
            "2021-07-25 14:58:14,032 : INFO : EPOCH 6 - PROGRESS: at 53.35% examples, 593149 words/s, in_qsize 13, out_qsize 2\n",
            "2021-07-25 14:58:15,043 : INFO : EPOCH 6 - PROGRESS: at 55.00% examples, 593776 words/s, in_qsize 14, out_qsize 1\n",
            "2021-07-25 14:58:16,105 : INFO : EPOCH 6 - PROGRESS: at 56.66% examples, 593818 words/s, in_qsize 15, out_qsize 0\n",
            "2021-07-25 14:58:17,106 : INFO : EPOCH 6 - PROGRESS: at 58.24% examples, 593828 words/s, in_qsize 11, out_qsize 4\n",
            "2021-07-25 14:58:18,186 : INFO : EPOCH 6 - PROGRESS: at 59.98% examples, 594078 words/s, in_qsize 15, out_qsize 0\n",
            "2021-07-25 14:58:19,218 : INFO : EPOCH 6 - PROGRESS: at 61.60% examples, 593857 words/s, in_qsize 13, out_qsize 2\n",
            "2021-07-25 14:58:20,224 : INFO : EPOCH 6 - PROGRESS: at 63.24% examples, 594450 words/s, in_qsize 13, out_qsize 2\n",
            "2021-07-25 14:58:21,244 : INFO : EPOCH 6 - PROGRESS: at 64.83% examples, 594161 words/s, in_qsize 14, out_qsize 1\n",
            "2021-07-25 14:58:22,256 : INFO : EPOCH 6 - PROGRESS: at 66.48% examples, 594452 words/s, in_qsize 15, out_qsize 0\n",
            "2021-07-25 14:58:23,260 : INFO : EPOCH 6 - PROGRESS: at 68.11% examples, 594633 words/s, in_qsize 15, out_qsize 0\n",
            "2021-07-25 14:58:24,268 : INFO : EPOCH 6 - PROGRESS: at 69.73% examples, 594950 words/s, in_qsize 15, out_qsize 0\n",
            "2021-07-25 14:58:25,278 : INFO : EPOCH 6 - PROGRESS: at 71.34% examples, 595014 words/s, in_qsize 13, out_qsize 2\n",
            "2021-07-25 14:58:26,297 : INFO : EPOCH 6 - PROGRESS: at 73.03% examples, 595782 words/s, in_qsize 16, out_qsize 0\n",
            "2021-07-25 14:58:27,300 : INFO : EPOCH 6 - PROGRESS: at 74.66% examples, 596118 words/s, in_qsize 15, out_qsize 0\n",
            "2021-07-25 14:58:28,360 : INFO : EPOCH 6 - PROGRESS: at 76.28% examples, 595729 words/s, in_qsize 14, out_qsize 1\n",
            "2021-07-25 14:58:29,393 : INFO : EPOCH 6 - PROGRESS: at 77.89% examples, 595403 words/s, in_qsize 16, out_qsize 5\n",
            "2021-07-25 14:58:30,401 : INFO : EPOCH 6 - PROGRESS: at 79.55% examples, 595725 words/s, in_qsize 15, out_qsize 0\n",
            "2021-07-25 14:58:31,431 : INFO : EPOCH 6 - PROGRESS: at 81.13% examples, 595420 words/s, in_qsize 16, out_qsize 5\n",
            "2021-07-25 14:58:32,428 : INFO : EPOCH 6 - PROGRESS: at 82.91% examples, 596614 words/s, in_qsize 15, out_qsize 0\n",
            "2021-07-25 14:58:33,448 : INFO : EPOCH 6 - PROGRESS: at 84.66% examples, 597566 words/s, in_qsize 14, out_qsize 1\n",
            "2021-07-25 14:58:34,472 : INFO : EPOCH 6 - PROGRESS: at 86.42% examples, 598613 words/s, in_qsize 14, out_qsize 0\n",
            "2021-07-25 14:58:35,511 : INFO : EPOCH 6 - PROGRESS: at 88.20% examples, 599281 words/s, in_qsize 15, out_qsize 0\n",
            "2021-07-25 14:58:36,527 : INFO : EPOCH 6 - PROGRESS: at 89.92% examples, 600012 words/s, in_qsize 14, out_qsize 1\n",
            "2021-07-25 14:58:37,572 : INFO : EPOCH 6 - PROGRESS: at 91.68% examples, 600889 words/s, in_qsize 16, out_qsize 3\n",
            "2021-07-25 14:58:38,566 : INFO : EPOCH 6 - PROGRESS: at 93.46% examples, 601944 words/s, in_qsize 15, out_qsize 0\n",
            "2021-07-25 14:58:39,593 : INFO : EPOCH 6 - PROGRESS: at 95.17% examples, 602467 words/s, in_qsize 13, out_qsize 2\n",
            "2021-07-25 14:58:40,622 : INFO : EPOCH 6 - PROGRESS: at 96.97% examples, 603288 words/s, in_qsize 14, out_qsize 1\n",
            "2021-07-25 14:58:41,638 : INFO : EPOCH 6 - PROGRESS: at 98.79% examples, 604489 words/s, in_qsize 14, out_qsize 1\n",
            "2021-07-25 14:58:42,247 : INFO : worker thread finished; awaiting finish of 7 more threads\n",
            "2021-07-25 14:58:42,250 : INFO : worker thread finished; awaiting finish of 6 more threads\n",
            "2021-07-25 14:58:42,251 : INFO : worker thread finished; awaiting finish of 5 more threads\n",
            "2021-07-25 14:58:42,265 : INFO : worker thread finished; awaiting finish of 4 more threads\n",
            "2021-07-25 14:58:42,266 : INFO : worker thread finished; awaiting finish of 3 more threads\n",
            "2021-07-25 14:58:42,274 : INFO : worker thread finished; awaiting finish of 2 more threads\n",
            "2021-07-25 14:58:42,277 : INFO : worker thread finished; awaiting finish of 1 more threads\n",
            "2021-07-25 14:58:42,288 : INFO : worker thread finished; awaiting finish of 0 more threads\n",
            "2021-07-25 14:58:42,289 : INFO : EPOCH - 6 : training on 40884194 raw words (37584031 effective words) took 62.1s, 605557 effective words/s\n",
            "2021-07-25 14:58:43,323 : INFO : EPOCH 7 - PROGRESS: at 1.65% examples, 600848 words/s, in_qsize 14, out_qsize 1\n",
            "2021-07-25 14:58:44,333 : INFO : EPOCH 7 - PROGRESS: at 3.43% examples, 631224 words/s, in_qsize 14, out_qsize 1\n",
            "2021-07-25 14:58:45,377 : INFO : EPOCH 7 - PROGRESS: at 5.26% examples, 639919 words/s, in_qsize 16, out_qsize 2\n",
            "2021-07-25 14:58:46,411 : INFO : EPOCH 7 - PROGRESS: at 7.04% examples, 641496 words/s, in_qsize 13, out_qsize 4\n",
            "2021-07-25 14:58:47,426 : INFO : EPOCH 7 - PROGRESS: at 8.91% examples, 651819 words/s, in_qsize 13, out_qsize 2\n",
            "2021-07-25 14:58:48,436 : INFO : EPOCH 7 - PROGRESS: at 10.75% examples, 656473 words/s, in_qsize 15, out_qsize 0\n",
            "2021-07-25 14:58:49,521 : INFO : EPOCH 7 - PROGRESS: at 12.53% examples, 651601 words/s, in_qsize 15, out_qsize 0\n",
            "2021-07-25 14:58:50,537 : INFO : EPOCH 7 - PROGRESS: at 14.36% examples, 654632 words/s, in_qsize 16, out_qsize 1\n",
            "2021-07-25 14:58:51,556 : INFO : EPOCH 7 - PROGRESS: at 16.21% examples, 657567 words/s, in_qsize 14, out_qsize 1\n",
            "2021-07-25 14:58:52,607 : INFO : EPOCH 7 - PROGRESS: at 18.00% examples, 656210 words/s, in_qsize 15, out_qsize 0\n",
            "2021-07-25 14:58:53,662 : INFO : EPOCH 7 - PROGRESS: at 19.87% examples, 657322 words/s, in_qsize 15, out_qsize 0\n",
            "2021-07-25 14:58:54,684 : INFO : EPOCH 7 - PROGRESS: at 21.66% examples, 657742 words/s, in_qsize 15, out_qsize 0\n",
            "2021-07-25 14:58:55,687 : INFO : EPOCH 7 - PROGRESS: at 23.41% examples, 656989 words/s, in_qsize 14, out_qsize 1\n",
            "2021-07-25 14:58:56,721 : INFO : EPOCH 7 - PROGRESS: at 25.23% examples, 656846 words/s, in_qsize 11, out_qsize 4\n",
            "2021-07-25 14:58:57,721 : INFO : EPOCH 7 - PROGRESS: at 27.03% examples, 658694 words/s, in_qsize 14, out_qsize 1\n",
            "2021-07-25 14:58:58,763 : INFO : EPOCH 7 - PROGRESS: at 28.79% examples, 657254 words/s, in_qsize 15, out_qsize 1\n",
            "2021-07-25 14:58:59,798 : INFO : EPOCH 7 - PROGRESS: at 30.63% examples, 657446 words/s, in_qsize 15, out_qsize 0\n",
            "2021-07-25 14:59:00,831 : INFO : EPOCH 7 - PROGRESS: at 32.46% examples, 657874 words/s, in_qsize 15, out_qsize 0\n",
            "2021-07-25 14:59:01,843 : INFO : EPOCH 7 - PROGRESS: at 34.18% examples, 657929 words/s, in_qsize 16, out_qsize 3\n",
            "2021-07-25 14:59:02,840 : INFO : EPOCH 7 - PROGRESS: at 35.93% examples, 657651 words/s, in_qsize 14, out_qsize 1\n",
            "2021-07-25 14:59:03,883 : INFO : EPOCH 7 - PROGRESS: at 37.75% examples, 656833 words/s, in_qsize 16, out_qsize 7\n",
            "2021-07-25 14:59:04,922 : INFO : EPOCH 7 - PROGRESS: at 39.63% examples, 658175 words/s, in_qsize 16, out_qsize 0\n",
            "2021-07-25 14:59:05,940 : INFO : EPOCH 7 - PROGRESS: at 41.40% examples, 657748 words/s, in_qsize 14, out_qsize 1\n",
            "2021-07-25 14:59:06,965 : INFO : EPOCH 7 - PROGRESS: at 43.24% examples, 658633 words/s, in_qsize 15, out_qsize 0\n",
            "2021-07-25 14:59:07,979 : INFO : EPOCH 7 - PROGRESS: at 45.01% examples, 658317 words/s, in_qsize 15, out_qsize 0\n",
            "2021-07-25 14:59:08,982 : INFO : EPOCH 7 - PROGRESS: at 46.78% examples, 658626 words/s, in_qsize 15, out_qsize 0\n",
            "2021-07-25 14:59:09,997 : INFO : EPOCH 7 - PROGRESS: at 48.59% examples, 659253 words/s, in_qsize 15, out_qsize 0\n",
            "2021-07-25 14:59:11,056 : INFO : EPOCH 7 - PROGRESS: at 50.28% examples, 657272 words/s, in_qsize 15, out_qsize 0\n",
            "2021-07-25 14:59:12,058 : INFO : EPOCH 7 - PROGRESS: at 51.97% examples, 656337 words/s, in_qsize 15, out_qsize 4\n",
            "2021-07-25 14:59:13,059 : INFO : EPOCH 7 - PROGRESS: at 53.62% examples, 655217 words/s, in_qsize 14, out_qsize 1\n",
            "2021-07-25 14:59:14,079 : INFO : EPOCH 7 - PROGRESS: at 55.21% examples, 653158 words/s, in_qsize 15, out_qsize 0\n",
            "2021-07-25 14:59:15,099 : INFO : EPOCH 7 - PROGRESS: at 56.73% examples, 650452 words/s, in_qsize 15, out_qsize 0\n",
            "2021-07-25 14:59:16,160 : INFO : EPOCH 7 - PROGRESS: at 58.29% examples, 647383 words/s, in_qsize 8, out_qsize 7\n",
            "2021-07-25 14:59:17,180 : INFO : EPOCH 7 - PROGRESS: at 59.98% examples, 646580 words/s, in_qsize 15, out_qsize 0\n",
            "2021-07-25 14:59:18,230 : INFO : EPOCH 7 - PROGRESS: at 61.65% examples, 645007 words/s, in_qsize 14, out_qsize 1\n",
            "2021-07-25 14:59:19,231 : INFO : EPOCH 7 - PROGRESS: at 63.31% examples, 644601 words/s, in_qsize 15, out_qsize 0\n",
            "2021-07-25 14:59:20,242 : INFO : EPOCH 7 - PROGRESS: at 64.88% examples, 642862 words/s, in_qsize 15, out_qsize 0\n",
            "2021-07-25 14:59:21,273 : INFO : EPOCH 7 - PROGRESS: at 66.58% examples, 642054 words/s, in_qsize 15, out_qsize 0\n",
            "2021-07-25 14:59:22,322 : INFO : EPOCH 7 - PROGRESS: at 68.21% examples, 640344 words/s, in_qsize 15, out_qsize 0\n",
            "2021-07-25 14:59:23,354 : INFO : EPOCH 7 - PROGRESS: at 69.81% examples, 638979 words/s, in_qsize 15, out_qsize 0\n",
            "2021-07-25 14:59:24,389 : INFO : EPOCH 7 - PROGRESS: at 71.42% examples, 637591 words/s, in_qsize 9, out_qsize 6\n",
            "2021-07-25 14:59:25,477 : INFO : EPOCH 7 - PROGRESS: at 73.15% examples, 636814 words/s, in_qsize 15, out_qsize 0\n",
            "2021-07-25 14:59:26,484 : INFO : EPOCH 7 - PROGRESS: at 74.80% examples, 636390 words/s, in_qsize 16, out_qsize 0\n",
            "2021-07-25 14:59:27,500 : INFO : EPOCH 7 - PROGRESS: at 76.30% examples, 634628 words/s, in_qsize 15, out_qsize 4\n",
            "2021-07-25 14:59:28,505 : INFO : EPOCH 7 - PROGRESS: at 77.97% examples, 634069 words/s, in_qsize 16, out_qsize 0\n",
            "2021-07-25 14:59:29,558 : INFO : EPOCH 7 - PROGRESS: at 79.62% examples, 633111 words/s, in_qsize 15, out_qsize 0\n",
            "2021-07-25 14:59:30,607 : INFO : EPOCH 7 - PROGRESS: at 81.26% examples, 632046 words/s, in_qsize 16, out_qsize 7\n",
            "2021-07-25 14:59:31,619 : INFO : EPOCH 7 - PROGRESS: at 82.91% examples, 631505 words/s, in_qsize 15, out_qsize 2\n",
            "2021-07-25 14:59:32,625 : INFO : EPOCH 7 - PROGRESS: at 84.51% examples, 630892 words/s, in_qsize 15, out_qsize 0\n",
            "2021-07-25 14:59:33,663 : INFO : EPOCH 7 - PROGRESS: at 86.06% examples, 629843 words/s, in_qsize 14, out_qsize 4\n",
            "2021-07-25 14:59:34,741 : INFO : EPOCH 7 - PROGRESS: at 87.71% examples, 628512 words/s, in_qsize 15, out_qsize 2\n",
            "2021-07-25 14:59:35,754 : INFO : EPOCH 7 - PROGRESS: at 89.34% examples, 627897 words/s, in_qsize 15, out_qsize 0\n",
            "2021-07-25 14:59:36,762 : INFO : EPOCH 7 - PROGRESS: at 90.93% examples, 627352 words/s, in_qsize 15, out_qsize 0\n",
            "2021-07-25 14:59:37,773 : INFO : EPOCH 7 - PROGRESS: at 92.62% examples, 627295 words/s, in_qsize 16, out_qsize 0\n",
            "2021-07-25 14:59:38,793 : INFO : EPOCH 7 - PROGRESS: at 94.05% examples, 625688 words/s, in_qsize 15, out_qsize 0\n",
            "2021-07-25 14:59:39,800 : INFO : EPOCH 7 - PROGRESS: at 95.68% examples, 625387 words/s, in_qsize 14, out_qsize 1\n",
            "2021-07-25 14:59:40,801 : INFO : EPOCH 7 - PROGRESS: at 97.20% examples, 624412 words/s, in_qsize 16, out_qsize 0\n",
            "2021-07-25 14:59:41,826 : INFO : EPOCH 7 - PROGRESS: at 98.87% examples, 624110 words/s, in_qsize 15, out_qsize 0\n",
            "2021-07-25 14:59:42,417 : INFO : worker thread finished; awaiting finish of 7 more threads\n",
            "2021-07-25 14:59:42,437 : INFO : worker thread finished; awaiting finish of 6 more threads\n",
            "2021-07-25 14:59:42,459 : INFO : worker thread finished; awaiting finish of 5 more threads\n",
            "2021-07-25 14:59:42,495 : INFO : worker thread finished; awaiting finish of 4 more threads\n",
            "2021-07-25 14:59:42,503 : INFO : worker thread finished; awaiting finish of 3 more threads\n",
            "2021-07-25 14:59:42,504 : INFO : worker thread finished; awaiting finish of 2 more threads\n",
            "2021-07-25 14:59:42,505 : INFO : worker thread finished; awaiting finish of 1 more threads\n",
            "2021-07-25 14:59:42,508 : INFO : worker thread finished; awaiting finish of 0 more threads\n",
            "2021-07-25 14:59:42,510 : INFO : EPOCH - 7 : training on 40884194 raw words (37582438 effective words) took 60.2s, 624205 effective words/s\n",
            "2021-07-25 14:59:43,568 : INFO : EPOCH 8 - PROGRESS: at 1.51% examples, 540556 words/s, in_qsize 15, out_qsize 0\n",
            "2021-07-25 14:59:44,587 : INFO : EPOCH 8 - PROGRESS: at 3.09% examples, 562057 words/s, in_qsize 16, out_qsize 0\n",
            "2021-07-25 14:59:45,598 : INFO : EPOCH 8 - PROGRESS: at 4.77% examples, 582617 words/s, in_qsize 15, out_qsize 0\n",
            "2021-07-25 14:59:46,629 : INFO : EPOCH 8 - PROGRESS: at 6.26% examples, 572204 words/s, in_qsize 15, out_qsize 0\n",
            "2021-07-25 14:59:47,698 : INFO : EPOCH 8 - PROGRESS: at 7.87% examples, 570699 words/s, in_qsize 10, out_qsize 5\n",
            "2021-07-25 14:59:48,735 : INFO : EPOCH 8 - PROGRESS: at 9.54% examples, 577040 words/s, in_qsize 16, out_qsize 0\n",
            "2021-07-25 14:59:49,745 : INFO : EPOCH 8 - PROGRESS: at 11.07% examples, 574923 words/s, in_qsize 15, out_qsize 0\n",
            "2021-07-25 14:59:50,769 : INFO : EPOCH 8 - PROGRESS: at 12.73% examples, 580159 words/s, in_qsize 14, out_qsize 1\n",
            "2021-07-25 14:59:51,792 : INFO : EPOCH 8 - PROGRESS: at 14.34% examples, 581298 words/s, in_qsize 15, out_qsize 0\n",
            "2021-07-25 14:59:52,803 : INFO : EPOCH 8 - PROGRESS: at 15.95% examples, 582849 words/s, in_qsize 15, out_qsize 0\n",
            "2021-07-25 14:59:53,820 : INFO : EPOCH 8 - PROGRESS: at 17.50% examples, 582185 words/s, in_qsize 16, out_qsize 1\n",
            "2021-07-25 14:59:54,822 : INFO : EPOCH 8 - PROGRESS: at 19.06% examples, 582381 words/s, in_qsize 10, out_qsize 5\n",
            "2021-07-25 14:59:55,860 : INFO : EPOCH 8 - PROGRESS: at 20.73% examples, 584390 words/s, in_qsize 15, out_qsize 2\n",
            "2021-07-25 14:59:56,861 : INFO : EPOCH 8 - PROGRESS: at 22.41% examples, 587694 words/s, in_qsize 15, out_qsize 2\n",
            "2021-07-25 14:59:57,875 : INFO : EPOCH 8 - PROGRESS: at 24.04% examples, 588733 words/s, in_qsize 15, out_qsize 0\n",
            "2021-07-25 14:59:58,880 : INFO : EPOCH 8 - PROGRESS: at 25.61% examples, 588383 words/s, in_qsize 14, out_qsize 3\n",
            "2021-07-25 14:59:59,961 : INFO : EPOCH 8 - PROGRESS: at 27.23% examples, 587038 words/s, in_qsize 15, out_qsize 1\n",
            "2021-07-25 15:00:00,981 : INFO : EPOCH 8 - PROGRESS: at 28.81% examples, 586850 words/s, in_qsize 14, out_qsize 1\n",
            "2021-07-25 15:00:01,983 : INFO : EPOCH 8 - PROGRESS: at 30.42% examples, 587199 words/s, in_qsize 14, out_qsize 1\n",
            "2021-07-25 15:00:03,008 : INFO : EPOCH 8 - PROGRESS: at 32.04% examples, 587339 words/s, in_qsize 15, out_qsize 0\n",
            "2021-07-25 15:00:04,084 : INFO : EPOCH 8 - PROGRESS: at 33.65% examples, 586913 words/s, in_qsize 15, out_qsize 0\n",
            "2021-07-25 15:00:05,100 : INFO : EPOCH 8 - PROGRESS: at 35.27% examples, 587633 words/s, in_qsize 16, out_qsize 0\n",
            "2021-07-25 15:00:06,105 : INFO : EPOCH 8 - PROGRESS: at 36.95% examples, 588947 words/s, in_qsize 14, out_qsize 1\n",
            "2021-07-25 15:00:07,115 : INFO : EPOCH 8 - PROGRESS: at 38.57% examples, 589330 words/s, in_qsize 14, out_qsize 1\n",
            "2021-07-25 15:00:08,139 : INFO : EPOCH 8 - PROGRESS: at 40.17% examples, 589314 words/s, in_qsize 15, out_qsize 0\n",
            "2021-07-25 15:00:09,160 : INFO : EPOCH 8 - PROGRESS: at 41.86% examples, 590466 words/s, in_qsize 15, out_qsize 0\n",
            "2021-07-25 15:00:10,206 : INFO : EPOCH 8 - PROGRESS: at 43.46% examples, 589981 words/s, in_qsize 15, out_qsize 0\n",
            "2021-07-25 15:00:11,206 : INFO : EPOCH 8 - PROGRESS: at 45.11% examples, 590810 words/s, in_qsize 15, out_qsize 0\n",
            "2021-07-25 15:00:12,255 : INFO : EPOCH 8 - PROGRESS: at 46.73% examples, 591071 words/s, in_qsize 15, out_qsize 4\n",
            "2021-07-25 15:00:13,267 : INFO : EPOCH 8 - PROGRESS: at 48.40% examples, 591695 words/s, in_qsize 12, out_qsize 3\n",
            "2021-07-25 15:00:14,273 : INFO : EPOCH 8 - PROGRESS: at 50.08% examples, 593114 words/s, in_qsize 15, out_qsize 0\n",
            "2021-07-25 15:00:15,296 : INFO : EPOCH 8 - PROGRESS: at 51.71% examples, 593008 words/s, in_qsize 15, out_qsize 0\n",
            "2021-07-25 15:00:16,331 : INFO : EPOCH 8 - PROGRESS: at 53.30% examples, 592984 words/s, in_qsize 14, out_qsize 2\n",
            "2021-07-25 15:00:17,351 : INFO : EPOCH 8 - PROGRESS: at 54.97% examples, 593487 words/s, in_qsize 15, out_qsize 0\n",
            "2021-07-25 15:00:18,359 : INFO : EPOCH 8 - PROGRESS: at 56.59% examples, 593915 words/s, in_qsize 14, out_qsize 1\n",
            "2021-07-25 15:00:19,400 : INFO : EPOCH 8 - PROGRESS: at 58.26% examples, 594290 words/s, in_qsize 15, out_qsize 0\n",
            "2021-07-25 15:00:20,479 : INFO : EPOCH 8 - PROGRESS: at 59.91% examples, 593549 words/s, in_qsize 14, out_qsize 1\n",
            "2021-07-25 15:00:21,493 : INFO : EPOCH 8 - PROGRESS: at 61.57% examples, 594079 words/s, in_qsize 16, out_qsize 0\n",
            "2021-07-25 15:00:22,539 : INFO : EPOCH 8 - PROGRESS: at 63.10% examples, 593172 words/s, in_qsize 16, out_qsize 0\n",
            "2021-07-25 15:00:23,595 : INFO : EPOCH 8 - PROGRESS: at 64.78% examples, 593069 words/s, in_qsize 15, out_qsize 0\n",
            "2021-07-25 15:00:24,609 : INFO : EPOCH 8 - PROGRESS: at 66.48% examples, 593780 words/s, in_qsize 15, out_qsize 0\n",
            "2021-07-25 15:00:25,623 : INFO : EPOCH 8 - PROGRESS: at 68.10% examples, 593831 words/s, in_qsize 15, out_qsize 0\n",
            "2021-07-25 15:00:26,625 : INFO : EPOCH 8 - PROGRESS: at 69.73% examples, 594251 words/s, in_qsize 15, out_qsize 0\n",
            "2021-07-25 15:00:27,661 : INFO : EPOCH 8 - PROGRESS: at 71.37% examples, 594189 words/s, in_qsize 14, out_qsize 1\n",
            "2021-07-25 15:00:28,670 : INFO : EPOCH 8 - PROGRESS: at 72.94% examples, 594125 words/s, in_qsize 15, out_qsize 0\n",
            "2021-07-25 15:00:29,682 : INFO : EPOCH 8 - PROGRESS: at 74.53% examples, 594179 words/s, in_qsize 15, out_qsize 0\n",
            "2021-07-25 15:00:30,685 : INFO : EPOCH 8 - PROGRESS: at 75.99% examples, 593199 words/s, in_qsize 15, out_qsize 1\n",
            "2021-07-25 15:00:31,763 : INFO : EPOCH 8 - PROGRESS: at 77.66% examples, 592829 words/s, in_qsize 14, out_qsize 1\n",
            "2021-07-25 15:00:32,785 : INFO : EPOCH 8 - PROGRESS: at 79.26% examples, 592636 words/s, in_qsize 16, out_qsize 5\n",
            "2021-07-25 15:00:33,799 : INFO : EPOCH 8 - PROGRESS: at 80.87% examples, 592689 words/s, in_qsize 15, out_qsize 3\n",
            "2021-07-25 15:00:34,813 : INFO : EPOCH 8 - PROGRESS: at 82.54% examples, 593078 words/s, in_qsize 15, out_qsize 0\n",
            "2021-07-25 15:00:35,841 : INFO : EPOCH 8 - PROGRESS: at 84.15% examples, 592963 words/s, in_qsize 15, out_qsize 0\n",
            "2021-07-25 15:00:36,913 : INFO : EPOCH 8 - PROGRESS: at 85.79% examples, 592730 words/s, in_qsize 15, out_qsize 0\n",
            "2021-07-25 15:00:37,941 : INFO : EPOCH 8 - PROGRESS: at 87.39% examples, 592472 words/s, in_qsize 11, out_qsize 4\n",
            "2021-07-25 15:00:38,941 : INFO : EPOCH 8 - PROGRESS: at 89.04% examples, 593015 words/s, in_qsize 15, out_qsize 0\n",
            "2021-07-25 15:00:39,963 : INFO : EPOCH 8 - PROGRESS: at 90.59% examples, 592663 words/s, in_qsize 16, out_qsize 2\n",
            "2021-07-25 15:00:40,987 : INFO : EPOCH 8 - PROGRESS: at 92.18% examples, 592453 words/s, in_qsize 15, out_qsize 0\n",
            "2021-07-25 15:00:42,015 : INFO : EPOCH 8 - PROGRESS: at 93.77% examples, 592362 words/s, in_qsize 15, out_qsize 0\n",
            "2021-07-25 15:00:43,018 : INFO : EPOCH 8 - PROGRESS: at 95.34% examples, 592370 words/s, in_qsize 15, out_qsize 1\n",
            "2021-07-25 15:00:44,019 : INFO : EPOCH 8 - PROGRESS: at 97.04% examples, 593008 words/s, in_qsize 14, out_qsize 1\n",
            "2021-07-25 15:00:45,026 : INFO : EPOCH 8 - PROGRESS: at 98.77% examples, 593860 words/s, in_qsize 14, out_qsize 1\n",
            "2021-07-25 15:00:45,606 : INFO : worker thread finished; awaiting finish of 7 more threads\n",
            "2021-07-25 15:00:45,609 : INFO : worker thread finished; awaiting finish of 6 more threads\n",
            "2021-07-25 15:00:45,622 : INFO : worker thread finished; awaiting finish of 5 more threads\n",
            "2021-07-25 15:00:45,639 : INFO : worker thread finished; awaiting finish of 4 more threads\n",
            "2021-07-25 15:00:45,644 : INFO : worker thread finished; awaiting finish of 3 more threads\n",
            "2021-07-25 15:00:45,658 : INFO : worker thread finished; awaiting finish of 2 more threads\n",
            "2021-07-25 15:00:45,668 : INFO : worker thread finished; awaiting finish of 1 more threads\n",
            "2021-07-25 15:00:45,673 : INFO : worker thread finished; awaiting finish of 0 more threads\n",
            "2021-07-25 15:00:45,674 : INFO : EPOCH - 8 : training on 40884194 raw words (37581192 effective words) took 63.1s, 595195 effective words/s\n",
            "2021-07-25 15:00:46,720 : INFO : EPOCH 9 - PROGRESS: at 1.60% examples, 577034 words/s, in_qsize 13, out_qsize 2\n",
            "2021-07-25 15:00:47,725 : INFO : EPOCH 9 - PROGRESS: at 3.34% examples, 611243 words/s, in_qsize 12, out_qsize 3\n",
            "2021-07-25 15:00:48,796 : INFO : EPOCH 9 - PROGRESS: at 5.11% examples, 619010 words/s, in_qsize 15, out_qsize 1\n",
            "2021-07-25 15:00:49,801 : INFO : EPOCH 9 - PROGRESS: at 6.85% examples, 623280 words/s, in_qsize 16, out_qsize 0\n",
            "2021-07-25 15:00:50,807 : INFO : EPOCH 9 - PROGRESS: at 8.57% examples, 627470 words/s, in_qsize 14, out_qsize 1\n",
            "2021-07-25 15:00:51,814 : INFO : EPOCH 9 - PROGRESS: at 10.21% examples, 624702 words/s, in_qsize 16, out_qsize 1\n",
            "2021-07-25 15:00:52,818 : INFO : EPOCH 9 - PROGRESS: at 11.91% examples, 626534 words/s, in_qsize 15, out_qsize 0\n",
            "2021-07-25 15:00:53,859 : INFO : EPOCH 9 - PROGRESS: at 13.68% examples, 628558 words/s, in_qsize 16, out_qsize 0\n",
            "2021-07-25 15:00:54,867 : INFO : EPOCH 9 - PROGRESS: at 15.48% examples, 633252 words/s, in_qsize 13, out_qsize 2\n",
            "2021-07-25 15:00:55,903 : INFO : EPOCH 9 - PROGRESS: at 17.31% examples, 636181 words/s, in_qsize 15, out_qsize 0\n",
            "2021-07-25 15:00:56,908 : INFO : EPOCH 9 - PROGRESS: at 19.12% examples, 640400 words/s, in_qsize 16, out_qsize 1\n",
            "2021-07-25 15:00:57,944 : INFO : EPOCH 9 - PROGRESS: at 20.85% examples, 639272 words/s, in_qsize 15, out_qsize 0\n",
            "2021-07-25 15:00:58,955 : INFO : EPOCH 9 - PROGRESS: at 22.53% examples, 638172 words/s, in_qsize 14, out_qsize 2\n",
            "2021-07-25 15:00:59,967 : INFO : EPOCH 9 - PROGRESS: at 24.21% examples, 637108 words/s, in_qsize 14, out_qsize 3\n",
            "2021-07-25 15:01:00,993 : INFO : EPOCH 9 - PROGRESS: at 26.02% examples, 638648 words/s, in_qsize 15, out_qsize 0\n",
            "2021-07-25 15:01:02,042 : INFO : EPOCH 9 - PROGRESS: at 27.75% examples, 637434 words/s, in_qsize 15, out_qsize 0\n",
            "2021-07-25 15:01:03,115 : INFO : EPOCH 9 - PROGRESS: at 29.60% examples, 638106 words/s, in_qsize 15, out_qsize 0\n",
            "2021-07-25 15:01:04,120 : INFO : EPOCH 9 - PROGRESS: at 31.35% examples, 638583 words/s, in_qsize 16, out_qsize 0\n",
            "2021-07-25 15:01:05,121 : INFO : EPOCH 9 - PROGRESS: at 33.12% examples, 640606 words/s, in_qsize 16, out_qsize 3\n",
            "2021-07-25 15:01:06,172 : INFO : EPOCH 9 - PROGRESS: at 34.96% examples, 641650 words/s, in_qsize 15, out_qsize 0\n",
            "2021-07-25 15:01:07,232 : INFO : EPOCH 9 - PROGRESS: at 36.75% examples, 641063 words/s, in_qsize 15, out_qsize 0\n",
            "2021-07-25 15:01:08,233 : INFO : EPOCH 9 - PROGRESS: at 38.57% examples, 642642 words/s, in_qsize 15, out_qsize 0\n",
            "2021-07-25 15:01:09,243 : INFO : EPOCH 9 - PROGRESS: at 40.37% examples, 643811 words/s, in_qsize 15, out_qsize 1\n",
            "2021-07-25 15:01:10,278 : INFO : EPOCH 9 - PROGRESS: at 42.21% examples, 644672 words/s, in_qsize 15, out_qsize 0\n",
            "2021-07-25 15:01:11,297 : INFO : EPOCH 9 - PROGRESS: at 43.95% examples, 644745 words/s, in_qsize 16, out_qsize 1\n",
            "2021-07-25 15:01:12,333 : INFO : EPOCH 9 - PROGRESS: at 45.80% examples, 645813 words/s, in_qsize 15, out_qsize 0\n",
            "2021-07-25 15:01:13,343 : INFO : EPOCH 9 - PROGRESS: at 47.39% examples, 643755 words/s, in_qsize 14, out_qsize 2\n",
            "2021-07-25 15:01:14,366 : INFO : EPOCH 9 - PROGRESS: at 49.16% examples, 644378 words/s, in_qsize 15, out_qsize 0\n",
            "2021-07-25 15:01:15,387 : INFO : EPOCH 9 - PROGRESS: at 50.83% examples, 643176 words/s, in_qsize 16, out_qsize 0\n",
            "2021-07-25 15:01:16,393 : INFO : EPOCH 9 - PROGRESS: at 52.42% examples, 641787 words/s, in_qsize 16, out_qsize 5\n",
            "2021-07-25 15:01:17,422 : INFO : EPOCH 9 - PROGRESS: at 54.17% examples, 641713 words/s, in_qsize 14, out_qsize 1\n",
            "2021-07-25 15:01:18,437 : INFO : EPOCH 9 - PROGRESS: at 55.92% examples, 641933 words/s, in_qsize 15, out_qsize 0\n",
            "2021-07-25 15:01:19,444 : INFO : EPOCH 9 - PROGRESS: at 57.66% examples, 642336 words/s, in_qsize 15, out_qsize 0\n",
            "2021-07-25 15:01:20,458 : INFO : EPOCH 9 - PROGRESS: at 59.27% examples, 640996 words/s, in_qsize 16, out_qsize 0\n",
            "2021-07-25 15:01:21,483 : INFO : EPOCH 9 - PROGRESS: at 61.06% examples, 641299 words/s, in_qsize 14, out_qsize 1\n",
            "2021-07-25 15:01:22,492 : INFO : EPOCH 9 - PROGRESS: at 62.83% examples, 641851 words/s, in_qsize 16, out_qsize 0\n",
            "2021-07-25 15:01:23,495 : INFO : EPOCH 9 - PROGRESS: at 64.45% examples, 641047 words/s, in_qsize 12, out_qsize 3\n",
            "2021-07-25 15:01:24,520 : INFO : EPOCH 9 - PROGRESS: at 66.15% examples, 640381 words/s, in_qsize 15, out_qsize 0\n",
            "2021-07-25 15:01:25,556 : INFO : EPOCH 9 - PROGRESS: at 67.91% examples, 640056 words/s, in_qsize 15, out_qsize 1\n",
            "2021-07-25 15:01:26,570 : INFO : EPOCH 9 - PROGRESS: at 69.49% examples, 638730 words/s, in_qsize 13, out_qsize 1\n",
            "2021-07-25 15:01:27,582 : INFO : EPOCH 9 - PROGRESS: at 71.04% examples, 637282 words/s, in_qsize 15, out_qsize 1\n",
            "2021-07-25 15:01:28,615 : INFO : EPOCH 9 - PROGRESS: at 72.65% examples, 636029 words/s, in_qsize 15, out_qsize 0\n",
            "2021-07-25 15:01:29,625 : INFO : EPOCH 9 - PROGRESS: at 74.19% examples, 634763 words/s, in_qsize 15, out_qsize 0\n",
            "2021-07-25 15:01:30,626 : INFO : EPOCH 9 - PROGRESS: at 75.82% examples, 634247 words/s, in_qsize 15, out_qsize 0\n",
            "2021-07-25 15:01:31,633 : INFO : EPOCH 9 - PROGRESS: at 77.33% examples, 632664 words/s, in_qsize 15, out_qsize 0\n",
            "2021-07-25 15:01:32,633 : INFO : EPOCH 9 - PROGRESS: at 78.97% examples, 632060 words/s, in_qsize 14, out_qsize 0\n",
            "2021-07-25 15:01:33,653 : INFO : EPOCH 9 - PROGRESS: at 80.57% examples, 631204 words/s, in_qsize 15, out_qsize 1\n",
            "2021-07-25 15:01:34,657 : INFO : EPOCH 9 - PROGRESS: at 82.17% examples, 630402 words/s, in_qsize 16, out_qsize 0\n",
            "2021-07-25 15:01:35,692 : INFO : EPOCH 9 - PROGRESS: at 83.83% examples, 629777 words/s, in_qsize 15, out_qsize 0\n",
            "2021-07-25 15:01:36,693 : INFO : EPOCH 9 - PROGRESS: at 85.45% examples, 629471 words/s, in_qsize 16, out_qsize 0\n",
            "2021-07-25 15:01:37,736 : INFO : EPOCH 9 - PROGRESS: at 87.10% examples, 628633 words/s, in_qsize 14, out_qsize 1\n",
            "2021-07-25 15:01:38,810 : INFO : EPOCH 9 - PROGRESS: at 88.66% examples, 626967 words/s, in_qsize 15, out_qsize 2\n",
            "2021-07-25 15:01:39,829 : INFO : EPOCH 9 - PROGRESS: at 90.28% examples, 626492 words/s, in_qsize 16, out_qsize 0\n",
            "2021-07-25 15:01:40,829 : INFO : EPOCH 9 - PROGRESS: at 91.64% examples, 624432 words/s, in_qsize 15, out_qsize 2\n",
            "2021-07-25 15:01:41,883 : INFO : EPOCH 9 - PROGRESS: at 93.17% examples, 622978 words/s, in_qsize 15, out_qsize 0\n",
            "2021-07-25 15:01:42,910 : INFO : EPOCH 9 - PROGRESS: at 94.65% examples, 621706 words/s, in_qsize 13, out_qsize 2\n",
            "2021-07-25 15:01:43,919 : INFO : EPOCH 9 - PROGRESS: at 96.25% examples, 621153 words/s, in_qsize 15, out_qsize 0\n",
            "2021-07-25 15:01:44,950 : INFO : EPOCH 9 - PROGRESS: at 97.84% examples, 620401 words/s, in_qsize 14, out_qsize 1\n",
            "2021-07-25 15:01:45,961 : INFO : EPOCH 9 - PROGRESS: at 99.47% examples, 620166 words/s, in_qsize 16, out_qsize 0\n",
            "2021-07-25 15:01:46,163 : INFO : worker thread finished; awaiting finish of 7 more threads\n",
            "2021-07-25 15:01:46,182 : INFO : worker thread finished; awaiting finish of 6 more threads\n",
            "2021-07-25 15:01:46,201 : INFO : worker thread finished; awaiting finish of 5 more threads\n",
            "2021-07-25 15:01:46,223 : INFO : worker thread finished; awaiting finish of 4 more threads\n",
            "2021-07-25 15:01:46,235 : INFO : worker thread finished; awaiting finish of 3 more threads\n",
            "2021-07-25 15:01:46,239 : INFO : worker thread finished; awaiting finish of 2 more threads\n",
            "2021-07-25 15:01:46,250 : INFO : worker thread finished; awaiting finish of 1 more threads\n",
            "2021-07-25 15:01:46,257 : INFO : worker thread finished; awaiting finish of 0 more threads\n",
            "2021-07-25 15:01:46,258 : INFO : EPOCH - 9 : training on 40884194 raw words (37583735 effective words) took 60.6s, 620484 effective words/s\n",
            "2021-07-25 15:01:47,276 : INFO : EPOCH 10 - PROGRESS: at 1.43% examples, 530780 words/s, in_qsize 16, out_qsize 1\n",
            "2021-07-25 15:01:48,288 : INFO : EPOCH 10 - PROGRESS: at 3.02% examples, 559217 words/s, in_qsize 11, out_qsize 4\n",
            "2021-07-25 15:01:49,314 : INFO : EPOCH 10 - PROGRESS: at 4.74% examples, 584167 words/s, in_qsize 15, out_qsize 0\n",
            "2021-07-25 15:01:50,315 : INFO : EPOCH 10 - PROGRESS: at 6.41% examples, 593657 words/s, in_qsize 14, out_qsize 2\n",
            "2021-07-25 15:01:51,342 : INFO : EPOCH 10 - PROGRESS: at 8.05% examples, 594267 words/s, in_qsize 15, out_qsize 0\n",
            "2021-07-25 15:01:52,357 : INFO : EPOCH 10 - PROGRESS: at 9.73% examples, 600389 words/s, in_qsize 15, out_qsize 0\n",
            "2021-07-25 15:01:53,379 : INFO : EPOCH 10 - PROGRESS: at 11.36% examples, 599009 words/s, in_qsize 15, out_qsize 0\n",
            "2021-07-25 15:01:54,400 : INFO : EPOCH 10 - PROGRESS: at 12.98% examples, 600424 words/s, in_qsize 16, out_qsize 3\n",
            "2021-07-25 15:01:55,403 : INFO : EPOCH 10 - PROGRESS: at 14.70% examples, 604625 words/s, in_qsize 14, out_qsize 1\n",
            "2021-07-25 15:01:56,409 : INFO : EPOCH 10 - PROGRESS: at 16.36% examples, 606008 words/s, in_qsize 15, out_qsize 1\n",
            "2021-07-25 15:01:57,427 : INFO : EPOCH 10 - PROGRESS: at 18.02% examples, 607251 words/s, in_qsize 12, out_qsize 3\n",
            "2021-07-25 15:01:58,439 : INFO : EPOCH 10 - PROGRESS: at 19.78% examples, 610875 words/s, in_qsize 15, out_qsize 1\n",
            "2021-07-25 15:01:59,453 : INFO : EPOCH 10 - PROGRESS: at 21.49% examples, 613188 words/s, in_qsize 14, out_qsize 2\n",
            "2021-07-25 15:02:00,529 : INFO : EPOCH 10 - PROGRESS: at 23.37% examples, 615747 words/s, in_qsize 15, out_qsize 0\n",
            "2021-07-25 15:02:01,532 : INFO : EPOCH 10 - PROGRESS: at 25.13% examples, 618426 words/s, in_qsize 15, out_qsize 0\n",
            "2021-07-25 15:02:02,571 : INFO : EPOCH 10 - PROGRESS: at 26.93% examples, 621077 words/s, in_qsize 16, out_qsize 0\n",
            "2021-07-25 15:02:03,657 : INFO : EPOCH 10 - PROGRESS: at 28.79% examples, 623251 words/s, in_qsize 16, out_qsize 5\n",
            "2021-07-25 15:02:04,640 : INFO : EPOCH 10 - PROGRESS: at 30.72% examples, 628384 words/s, in_qsize 16, out_qsize 0\n",
            "2021-07-25 15:02:05,693 : INFO : EPOCH 10 - PROGRESS: at 32.49% examples, 628876 words/s, in_qsize 15, out_qsize 0\n",
            "2021-07-25 15:02:06,686 : INFO : EPOCH 10 - PROGRESS: at 34.21% examples, 629978 words/s, in_qsize 14, out_qsize 1\n",
            "2021-07-25 15:02:07,713 : INFO : EPOCH 10 - PROGRESS: at 36.08% examples, 632657 words/s, in_qsize 15, out_qsize 0\n",
            "2021-07-25 15:02:08,769 : INFO : EPOCH 10 - PROGRESS: at 37.97% examples, 633873 words/s, in_qsize 15, out_qsize 0\n",
            "2021-07-25 15:02:09,781 : INFO : EPOCH 10 - PROGRESS: at 39.75% examples, 635364 words/s, in_qsize 15, out_qsize 0\n",
            "2021-07-25 15:02:10,795 : INFO : EPOCH 10 - PROGRESS: at 41.59% examples, 637107 words/s, in_qsize 15, out_qsize 0\n",
            "2021-07-25 15:02:11,845 : INFO : EPOCH 10 - PROGRESS: at 43.38% examples, 637450 words/s, in_qsize 12, out_qsize 4\n",
            "2021-07-25 15:02:12,868 : INFO : EPOCH 10 - PROGRESS: at 45.30% examples, 639805 words/s, in_qsize 15, out_qsize 0\n",
            "2021-07-25 15:02:13,900 : INFO : EPOCH 10 - PROGRESS: at 47.14% examples, 641482 words/s, in_qsize 16, out_qsize 0\n",
            "2021-07-25 15:02:14,897 : INFO : EPOCH 10 - PROGRESS: at 48.90% examples, 642352 words/s, in_qsize 15, out_qsize 2\n",
            "2021-07-25 15:02:15,895 : INFO : EPOCH 10 - PROGRESS: at 50.68% examples, 643018 words/s, in_qsize 15, out_qsize 0\n",
            "2021-07-25 15:02:16,902 : INFO : EPOCH 10 - PROGRESS: at 52.47% examples, 643963 words/s, in_qsize 15, out_qsize 0\n",
            "2021-07-25 15:02:17,951 : INFO : EPOCH 10 - PROGRESS: at 54.29% examples, 644267 words/s, in_qsize 15, out_qsize 0\n",
            "2021-07-25 15:02:18,957 : INFO : EPOCH 10 - PROGRESS: at 56.06% examples, 644875 words/s, in_qsize 15, out_qsize 0\n",
            "2021-07-25 15:02:20,023 : INFO : EPOCH 10 - PROGRESS: at 57.93% examples, 645423 words/s, in_qsize 15, out_qsize 2\n",
            "2021-07-25 15:02:21,034 : INFO : EPOCH 10 - PROGRESS: at 59.72% examples, 645888 words/s, in_qsize 14, out_qsize 1\n",
            "2021-07-25 15:02:22,045 : INFO : EPOCH 10 - PROGRESS: at 61.62% examples, 647598 words/s, in_qsize 15, out_qsize 0\n",
            "2021-07-25 15:02:23,068 : INFO : EPOCH 10 - PROGRESS: at 63.31% examples, 646980 words/s, in_qsize 16, out_qsize 2\n",
            "2021-07-25 15:02:24,068 : INFO : EPOCH 10 - PROGRESS: at 65.10% examples, 647534 words/s, in_qsize 10, out_qsize 5\n",
            "2021-07-25 15:02:25,109 : INFO : EPOCH 10 - PROGRESS: at 67.01% examples, 648329 words/s, in_qsize 15, out_qsize 0\n",
            "2021-07-25 15:02:26,129 : INFO : EPOCH 10 - PROGRESS: at 68.87% examples, 649446 words/s, in_qsize 15, out_qsize 0\n",
            "2021-07-25 15:02:27,138 : INFO : EPOCH 10 - PROGRESS: at 70.65% examples, 649745 words/s, in_qsize 13, out_qsize 1\n",
            "2021-07-25 15:02:28,151 : INFO : EPOCH 10 - PROGRESS: at 72.48% examples, 650442 words/s, in_qsize 15, out_qsize 0\n",
            "2021-07-25 15:02:29,198 : INFO : EPOCH 10 - PROGRESS: at 74.07% examples, 649113 words/s, in_qsize 16, out_qsize 6\n",
            "2021-07-25 15:02:30,196 : INFO : EPOCH 10 - PROGRESS: at 75.93% examples, 649953 words/s, in_qsize 15, out_qsize 0\n",
            "2021-07-25 15:02:31,199 : INFO : EPOCH 10 - PROGRESS: at 77.76% examples, 650497 words/s, in_qsize 14, out_qsize 1\n",
            "2021-07-25 15:02:32,199 : INFO : EPOCH 10 - PROGRESS: at 79.36% examples, 649283 words/s, in_qsize 15, out_qsize 0\n",
            "2021-07-25 15:02:33,220 : INFO : EPOCH 10 - PROGRESS: at 80.94% examples, 647819 words/s, in_qsize 9, out_qsize 6\n",
            "2021-07-25 15:02:34,232 : INFO : EPOCH 10 - PROGRESS: at 82.61% examples, 647138 words/s, in_qsize 13, out_qsize 2\n",
            "2021-07-25 15:02:35,305 : INFO : EPOCH 10 - PROGRESS: at 84.32% examples, 646125 words/s, in_qsize 15, out_qsize 3\n",
            "2021-07-25 15:02:36,314 : INFO : EPOCH 10 - PROGRESS: at 85.94% examples, 645275 words/s, in_qsize 11, out_qsize 4\n",
            "2021-07-25 15:02:37,320 : INFO : EPOCH 10 - PROGRESS: at 87.58% examples, 644564 words/s, in_qsize 16, out_qsize 2\n",
            "2021-07-25 15:02:38,339 : INFO : EPOCH 10 - PROGRESS: at 89.26% examples, 644103 words/s, in_qsize 15, out_qsize 0\n",
            "2021-07-25 15:02:39,381 : INFO : EPOCH 10 - PROGRESS: at 90.91% examples, 643173 words/s, in_qsize 13, out_qsize 2\n",
            "2021-07-25 15:02:40,382 : INFO : EPOCH 10 - PROGRESS: at 92.59% examples, 642936 words/s, in_qsize 15, out_qsize 0\n",
            "2021-07-25 15:02:41,390 : INFO : EPOCH 10 - PROGRESS: at 94.20% examples, 642297 words/s, in_qsize 14, out_qsize 1\n",
            "2021-07-25 15:02:42,410 : INFO : EPOCH 10 - PROGRESS: at 95.81% examples, 641375 words/s, in_qsize 15, out_qsize 0\n",
            "2021-07-25 15:02:43,436 : INFO : EPOCH 10 - PROGRESS: at 97.50% examples, 640940 words/s, in_qsize 15, out_qsize 0\n",
            "2021-07-25 15:02:44,483 : INFO : EPOCH 10 - PROGRESS: at 99.13% examples, 639943 words/s, in_qsize 14, out_qsize 1\n",
            "2021-07-25 15:02:44,880 : INFO : worker thread finished; awaiting finish of 7 more threads\n",
            "2021-07-25 15:02:44,926 : INFO : worker thread finished; awaiting finish of 6 more threads\n",
            "2021-07-25 15:02:44,935 : INFO : worker thread finished; awaiting finish of 5 more threads\n",
            "2021-07-25 15:02:44,941 : INFO : worker thread finished; awaiting finish of 4 more threads\n",
            "2021-07-25 15:02:44,953 : INFO : worker thread finished; awaiting finish of 3 more threads\n",
            "2021-07-25 15:02:44,955 : INFO : worker thread finished; awaiting finish of 2 more threads\n",
            "2021-07-25 15:02:44,961 : INFO : worker thread finished; awaiting finish of 1 more threads\n",
            "2021-07-25 15:02:44,963 : INFO : worker thread finished; awaiting finish of 0 more threads\n",
            "2021-07-25 15:02:44,967 : INFO : EPOCH - 10 : training on 40884194 raw words (37582296 effective words) took 58.7s, 640319 effective words/s\n",
            "2021-07-25 15:02:44,968 : INFO : Word2Vec lifecycle event {'msg': 'training on 408841940 raw words (375829483 effective words) took 603.8s, 622394 effective words/s', 'datetime': '2021-07-25T15:02:44.968671', 'gensim': '4.0.1', 'python': '3.7.11 (default, Jul  3 2021, 18:01:19) \\n[GCC 7.5.0]', 'platform': 'Linux-5.4.104+-x86_64-with-Ubuntu-18.04-bionic', 'event': 'train'}\n"
          ],
          "name": "stderr"
        },
        {
          "output_type": "stream",
          "text": [
            "CPU times: user 19min 30s, sys: 6.59 s, total: 19min 36s\n",
            "Wall time: 10min 3s\n"
          ],
          "name": "stdout"
        },
        {
          "output_type": "execute_result",
          "data": {
            "text/plain": [
              "(375829483, 408841940)"
            ]
          },
          "metadata": {
            "tags": []
          },
          "execution_count": 22
        }
      ]
    },
    {
      "cell_type": "markdown",
      "metadata": {
        "id": "rrxTJ3amPZ8O"
      },
      "source": [
        "# Tokenizing"
      ]
    },
    {
      "cell_type": "code",
      "metadata": {
        "colab": {
          "base_uri": "https://localhost:8080/"
        },
        "id": "0mTIcTur9WG7",
        "outputId": "7a8ff5db-f2a9-4539-924e-70684c7052f8"
      },
      "source": [
        "%%time\n",
        "tokenizer = Tokenizer()\n",
        "tokenizer.fit_on_texts(df_train.text)\n",
        "\n",
        "vocab_size = len(tokenizer.word_index) + 1\n",
        "print(\"Total words\", vocab_size)"
      ],
      "execution_count": null,
      "outputs": [
        {
          "output_type": "stream",
          "text": [
            "Total words 139092\n",
            "CPU times: user 37.1 s, sys: 121 ms, total: 37.2 s\n",
            "Wall time: 37.2 s\n"
          ],
          "name": "stdout"
        }
      ]
    },
    {
      "cell_type": "code",
      "metadata": {
        "colab": {
          "base_uri": "https://localhost:8080/"
        },
        "id": "KtG5vgb9WGLM",
        "outputId": "a9532c57-c195-4e81-a06b-8d06d7e2394f"
      },
      "source": [
        "%%time\n",
        "x_train = pad_sequences(tokenizer.texts_to_sequences(df_train.text), maxlen=SEQUENCE_LENGTH)\n",
        "x_test = pad_sequences(tokenizer.texts_to_sequences(df_test.text), maxlen=SEQUENCE_LENGTH)"
      ],
      "execution_count": null,
      "outputs": [
        {
          "output_type": "stream",
          "text": [
            "CPU times: user 47 s, sys: 1.73 s, total: 48.8 s\n",
            "Wall time: 48.2 s\n"
          ],
          "name": "stdout"
        }
      ]
    },
    {
      "cell_type": "code",
      "metadata": {
        "colab": {
          "base_uri": "https://localhost:8080/"
        },
        "id": "rLswNs0LWLjL",
        "outputId": "a33af643-39dd-43d9-95c4-f3a7206cc5e8"
      },
      "source": [
        "labels = df_train.label.unique().tolist()\n",
        "labels"
      ],
      "execution_count": null,
      "outputs": [
        {
          "output_type": "execute_result",
          "data": {
            "text/plain": [
              "[0, 1]"
            ]
          },
          "metadata": {
            "tags": []
          },
          "execution_count": 25
        }
      ]
    },
    {
      "cell_type": "code",
      "metadata": {
        "colab": {
          "base_uri": "https://localhost:8080/"
        },
        "id": "Y5RmCjgCWPqn",
        "outputId": "bfdb6489-a432-4aa2-bf17-32d4cd482c9a"
      },
      "source": [
        "encoder = LabelEncoder()\n",
        "encoder.fit(df_train.label.tolist())\n",
        "\n",
        "y_train = encoder.transform(df_train.label.tolist())\n",
        "y_test = encoder.transform(df_test.label.tolist())\n",
        "\n",
        "y_train = y_train.reshape(-1,1)\n",
        "y_test = y_test.reshape(-1,1)\n",
        "\n",
        "\n",
        "print(\"x_train\", x_train.shape)\n",
        "print(\"y_train\", y_train.shape)\n",
        "print()\n",
        "print(\"x_test\", x_test.shape)\n",
        "print(\"y_test\", y_test.shape)"
      ],
      "execution_count": null,
      "outputs": [
        {
          "output_type": "stream",
          "text": [
            "y_train (1301172, 1)\n",
            "y_test (325293, 1)\n"
          ],
          "name": "stdout"
        }
      ]
    },
    {
      "cell_type": "code",
      "metadata": {
        "id": "78KjTtv7WoWk"
      },
      "source": [
        ""
      ],
      "execution_count": null,
      "outputs": []
    },
    {
      "cell_type": "markdown",
      "metadata": {
        "id": "EsIRyb5PWTUj"
      },
      "source": [
        "# Embedding"
      ]
    },
    {
      "cell_type": "code",
      "metadata": {
        "colab": {
          "base_uri": "https://localhost:8080/"
        },
        "id": "skfFp1CsWWkP",
        "outputId": "cfd32e68-d9e4-44a3-b853-398fedfe3308"
      },
      "source": [
        "embedding_matrix = np.zeros((vocab_size, 100))\n",
        "for word, i in tokenizer.word_index.items():\n",
        "  if word in w2v_model.wv:\n",
        "    embedding_matrix[i] = w2v_model.wv[word]\n",
        "print(embedding_matrix.shape)"
      ],
      "execution_count": null,
      "outputs": [
        {
          "output_type": "stream",
          "text": [
            "(139092, 100)\n"
          ],
          "name": "stdout"
        }
      ]
    },
    {
      "cell_type": "code",
      "metadata": {
        "id": "ylnRG4pSXJkU"
      },
      "source": [
        "embedding_layer = Embedding(vocab_size, 100, weights=[embedding_matrix], input_length=SEQUENCE_LENGTH, trainable=False)"
      ],
      "execution_count": null,
      "outputs": []
    },
    {
      "cell_type": "markdown",
      "metadata": {
        "id": "_A-ZXRgHXN-D"
      },
      "source": [
        "# Membuat model"
      ]
    },
    {
      "cell_type": "code",
      "metadata": {
        "colab": {
          "base_uri": "https://localhost:8080/"
        },
        "id": "Owey0gNBXPji",
        "outputId": "2bdc9cb2-9d1b-47e3-d05b-781f04273003"
      },
      "source": [
        "model = Sequential()\n",
        "model.add(embedding_layer)\n",
        "model.add(Dropout(0.5))\n",
        "model.add(LSTM(100, dropout=0.2, recurrent_dropout=0.2))\n",
        "model.add(Dense(1, activation='sigmoid'))\n",
        "\n",
        "model.summary()"
      ],
      "execution_count": null,
      "outputs": [
        {
          "output_type": "stream",
          "text": [
            "WARNING:tensorflow:Layer lstm will not use cuDNN kernels since it doesn't meet the criteria. It will use a generic GPU kernel as fallback when running on GPU.\n"
          ],
          "name": "stdout"
        },
        {
          "output_type": "stream",
          "text": [
            "2021-07-25 15:05:36,600 : WARNING : Layer lstm will not use cuDNN kernels since it doesn't meet the criteria. It will use a generic GPU kernel as fallback when running on GPU.\n"
          ],
          "name": "stderr"
        },
        {
          "output_type": "stream",
          "text": [
            "Model: \"sequential\"\n",
            "_________________________________________________________________\n",
            "Layer (type)                 Output Shape              Param #   \n",
            "=================================================================\n",
            "embedding (Embedding)        (None, 300, 100)          13909200  \n",
            "_________________________________________________________________\n",
            "dropout (Dropout)            (None, 300, 100)          0         \n",
            "_________________________________________________________________\n",
            "lstm (LSTM)                  (None, 100)               80400     \n",
            "_________________________________________________________________\n",
            "dense (Dense)                (None, 1)                 101       \n",
            "=================================================================\n",
            "Total params: 13,989,701\n",
            "Trainable params: 80,501\n",
            "Non-trainable params: 13,909,200\n",
            "_________________________________________________________________\n"
          ],
          "name": "stdout"
        }
      ]
    },
    {
      "cell_type": "markdown",
      "metadata": {
        "id": "NmotwLs30cix"
      },
      "source": [
        "## Compile Model"
      ]
    },
    {
      "cell_type": "code",
      "metadata": {
        "id": "n0UZdiGTXRDS"
      },
      "source": [
        "model.compile(loss='binary_crossentropy',\n",
        "              optimizer=\"adam\",\n",
        "              metrics=['accuracy'])"
      ],
      "execution_count": null,
      "outputs": []
    },
    {
      "cell_type": "code",
      "metadata": {
        "id": "dzdwl35BXVk6"
      },
      "source": [
        "callbacks = [ ReduceLROnPlateau(monitor='val_loss', patience=5, cooldown=0),\n",
        "              EarlyStopping(monitor='val_acc', min_delta=1e-4, patience=5)]"
      ],
      "execution_count": null,
      "outputs": []
    },
    {
      "cell_type": "code",
      "metadata": {
        "colab": {
          "base_uri": "https://localhost:8080/"
        },
        "id": "5oeuBrvJXXnm",
        "outputId": "8352bbc7-7746-4450-b570-98abd2e334e0"
      },
      "source": [
        "%%time\n",
        "history = model.fit(x_train, y_train,\n",
        "                    batch_size=BATCH_SIZE,\n",
        "                    epochs=1,\n",
        "                    validation_split=0.1,\n",
        "                    verbose=1,\n",
        "                    callbacks=callbacks)"
      ],
      "execution_count": null,
      "outputs": [
        {
          "output_type": "stream",
          "text": [
            "1144/1144 [==============================] - 1355s 1s/step - loss: 0.5822 - accuracy: 0.7087 - val_loss: 0.5175 - val_accuracy: 0.7676\n",
            "WARNING:tensorflow:Early stopping conditioned on metric `val_acc` which is not available. Available metrics are: loss,accuracy,val_loss,val_accuracy,lr\n"
          ],
          "name": "stdout"
        },
        {
          "output_type": "stream",
          "text": [
            "2021-07-25 15:28:20,002 : WARNING : Early stopping conditioned on metric `val_acc` which is not available. Available metrics are: loss,accuracy,val_loss,val_accuracy,lr\n"
          ],
          "name": "stderr"
        },
        {
          "output_type": "stream",
          "text": [
            "CPU times: user 32min 32s, sys: 4min 11s, total: 36min 43s\n",
            "Wall time: 22min 44s\n"
          ],
          "name": "stdout"
        }
      ]
    },
    {
      "cell_type": "code",
      "metadata": {
        "colab": {
          "base_uri": "https://localhost:8080/"
        },
        "id": "Uwa7D9rdcZ1a",
        "outputId": "bbbb152b-bf36-44ce-c32c-7edd50c41779"
      },
      "source": [
        "%%time\n",
        "score = model.evaluate(x_test, y_test, batch_size=BATCH_SIZE)\n",
        "print()\n",
        "print(\"ACCURACY:\",score[1])\n",
        "print(\"LOSS:\",score[0])"
      ],
      "execution_count": null,
      "outputs": [
        {
          "output_type": "stream",
          "text": [
            "318/318 [==============================] - 36s 112ms/step - loss: 0.5155 - accuracy: 0.7698\n",
            "\n",
            "ACCURACY: 0.76978600025177\n",
            "LOSS: 0.5155038833618164\n",
            "CPU times: user 34.7 s, sys: 500 ms, total: 35.2 s\n",
            "Wall time: 41 s\n"
          ],
          "name": "stdout"
        }
      ]
    },
    {
      "cell_type": "markdown",
      "metadata": {
        "id": "zKx1oNEgchPb"
      },
      "source": [
        "# Predict Model"
      ]
    },
    {
      "cell_type": "markdown",
      "metadata": {
        "id": "psylPljL0yX1"
      },
      "source": [
        "Model akan menghitung sentimen teks review dari dalam range 0 s/d 1. 0 = Paling negatif, dan 1 = paling positif. Kita atur jika nilai sentimen > 0.5, berarti sudah termasuk positif."
      ]
    },
    {
      "cell_type": "code",
      "metadata": {
        "id": "ZoIWDNkY0wIP"
      },
      "source": [
        "# SENTIMENT\n",
        "POSITIVE = \"POSITIVE\"\n",
        "NEGATIVE = \"NEGATIVE\"\n",
        "NEUTRAL = \"NEUTRAL\"\n",
        "SENTIMENT_THRESHOLDS = (0, 0.5, 1)"
      ],
      "execution_count": null,
      "outputs": []
    },
    {
      "cell_type": "code",
      "metadata": {
        "id": "WwID9jOrcil1"
      },
      "source": [
        "def decode_sentiment(score, include_neutral=True):\n",
        "    if include_neutral:        \n",
        "        label = NEUTRAL\n",
        "        if score <= SENTIMENT_THRESHOLDS[1]:\n",
        "            label = NEGATIVE\n",
        "        elif score >= SENTIMENT_THRESHOLDS[1]:\n",
        "            label = POSITIVE\n",
        "\n",
        "        return label\n",
        "    else:\n",
        "        return NEGATIVE if score < 0.5 else POSITIVE"
      ],
      "execution_count": null,
      "outputs": []
    },
    {
      "cell_type": "markdown",
      "metadata": {
        "id": "j1CtTFsGyqO0"
      },
      "source": [
        "Terlebih dahulu kita buat fungsi *predict()*."
      ]
    },
    {
      "cell_type": "code",
      "metadata": {
        "id": "CK4J_c6nckNZ"
      },
      "source": [
        "def predict(text, include_neutral=True):\n",
        "    start_at = time.time()\n",
        "    # Tokenize text\n",
        "    x_test = pad_sequences(tokenizer.texts_to_sequences([text]), maxlen=SEQUENCE_LENGTH)\n",
        "    # Predict\n",
        "    score = model.predict([x_test])[0]\n",
        "    # Decode sentiment\n",
        "    label = decode_sentiment(score, include_neutral=include_neutral)\n",
        "\n",
        "    return {\"label\": label, \"score\": float(score),\n",
        "       \"elapsed_time\": time.time()-start_at}  "
      ],
      "execution_count": null,
      "outputs": []
    },
    {
      "cell_type": "markdown",
      "metadata": {
        "id": "N1xCWqTfyvO9"
      },
      "source": [
        "Lalu coba input kalimat untuk memprediksi apakah kalimat review tersebut POSITIVE/NEGATIVE."
      ]
    },
    {
      "cell_type": "code",
      "metadata": {
        "colab": {
          "base_uri": "https://localhost:8080/"
        },
        "id": "1LCt3Efocp_f",
        "outputId": "6ceabcc7-18a4-424a-e186-2fa6cd0271e6"
      },
      "source": [
        "# Prediksi\n",
        "predict(\"The material used is low-quality. It breaks easily and color damped as it being washed. Overal, not a goood choice.\")"
      ],
      "execution_count": null,
      "outputs": [
        {
          "output_type": "execute_result",
          "data": {
            "text/plain": [
              "{'elapsed_time': 0.10576868057250977,\n",
              " 'label': 'NEGATIVE',\n",
              " 'score': 0.13175106048583984}"
            ]
          },
          "metadata": {
            "tags": []
          },
          "execution_count": 42
        }
      ]
    },
    {
      "cell_type": "code",
      "metadata": {
        "colab": {
          "base_uri": "https://localhost:8080/"
        },
        "id": "MRI41EDdqh4Y",
        "outputId": "2b4e3ea0-936c-4402-bf84-45918a71c167"
      },
      "source": [
        "predict(\"My son loves it so much. Definitely re-purchase.\")"
      ],
      "execution_count": null,
      "outputs": [
        {
          "output_type": "execute_result",
          "data": {
            "text/plain": [
              "{'elapsed_time': 0.1037602424621582,\n",
              " 'label': 'POSITIVE',\n",
              " 'score': 0.8257034420967102}"
            ]
          },
          "metadata": {
            "tags": []
          },
          "execution_count": 43
        }
      ]
    },
    {
      "cell_type": "markdown",
      "metadata": {
        "id": "z5HGBuHnTg5R"
      },
      "source": [
        "Untuk teks yang lebih panjang:"
      ]
    },
    {
      "cell_type": "code",
      "metadata": {
        "colab": {
          "base_uri": "https://localhost:8080/"
        },
        "id": "4oaXgdSfS9NO",
        "outputId": "af02a18e-536f-493e-cae2-24cfd3694d76"
      },
      "source": [
        "\n",
        "predict(\"Good way to keep a child's medical history in a single book: I bought this book for each of my children in order to keep their medical history in a single place. I take it with me to doctor's visits and write a synopsis about each illness, etc. I was better about it when they were babies, but try to keep it up to date now as well. Good to keep you organized.\")"
      ],
      "execution_count": null,
      "outputs": [
        {
          "output_type": "execute_result",
          "data": {
            "text/plain": [
              "{'elapsed_time': 0.11178207397460938,\n",
              " 'label': 'POSITIVE',\n",
              " 'score': 0.8454506397247314}"
            ]
          },
          "metadata": {
            "tags": []
          },
          "execution_count": 49
        }
      ]
    },
    {
      "cell_type": "code",
      "metadata": {
        "colab": {
          "base_uri": "https://localhost:8080/"
        },
        "id": "OKcueiDHTaZF",
        "outputId": "5a72753f-0ee6-448c-c1a1-652f6c67b17c"
      },
      "source": [
        "predict(\"Not essential at all: The authors try hard but end up writing what is unintentionally hilarious. Actually has sections like what the properly dressed leather man wears. Meant to be helpful, it ends up being immediatedly dated and campy.\")"
      ],
      "execution_count": null,
      "outputs": [
        {
          "output_type": "execute_result",
          "data": {
            "text/plain": [
              "{'elapsed_time': 0.11066699028015137,\n",
              " 'label': 'NEGATIVE',\n",
              " 'score': 0.19379065930843353}"
            ]
          },
          "metadata": {
            "tags": []
          },
          "execution_count": 50
        }
      ]
    }
  ]
}